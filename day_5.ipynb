{
 "cells": [
  {
   "cell_type": "code",
   "execution_count": 2,
   "outputs": [],
   "source": [
    "import numpy as np\n",
    "import matplotlib.pyplot as plt\n",
    "import statsmodels as stat\n",
    "import seaborn as sea\n",
    "import pandas as pd\n",
    "from pandas.plotting import scatter_matrix\n",
    "import scipy.stats as stats\n",
    "import statsmodels.api as sm\n",
    "#from day_1 import mean_CI_model, mean_CI_data, mean_PI_model, mean_PI_data\n",
    "import pandas.plotting as pd_plot\n",
    "import scipy as sc\n"
   ],
   "metadata": {
    "collapsed": false,
    "pycharm": {
     "name": "#%%\n"
    }
   }
  },
  {
   "cell_type": "markdown",
   "source": [
    "## Exercise 5.1\n",
    "Consider the data on PEFR, height and, sex we looked at during today’s lecture,\n",
    "PEFR.dta. We will start by looking at the men only (i.e. discard the women) and mimic\n",
    "the analysis done for the women presented in the lectures.\n",
    "1. Make a scatter plot of PEFR against height with a fitted line.\n",
    "Comment on what you see.\n",
    " - We can see that the data is very scattered, but it seems to\n",
    " follow an increasing  PERF with height"
   ],
   "metadata": {
    "collapsed": false,
    "pycharm": {
     "name": "#%% md\n"
    }
   }
  },
  {
   "cell_type": "code",
   "execution_count": 18,
   "outputs": [
    {
     "data": {
      "text/plain": "<Figure size 432x288 with 1 Axes>",
      "image/png": "[encoded data removed]"
     },
     "metadata": {
      "needs_background": "light"
     },
     "output_type": "display_data"
    }
   ],
   "source": [
    "PEFR = pd.read_csv('data/PEFR.csv', sep=',', na_values=\".\")\n",
    "PEFR_male = PEFR.loc[PEFR['sex'] == 'male']\n",
    "\n",
    "# linear regression fit\n",
    "slope, intercept, r_value, p_value, std_err = stats.linregress(PEFR_male['height'],PEFR_male['PEFR'])\n",
    "\n",
    "plt.rcParams.update({'font.size': 12})\n",
    "fig, ax = plt.subplots(1, 1)\n",
    "ax.scatter(PEFR_male['height'], PEFR_male['PEFR'])\n",
    "x = np.linspace(np.amin(PEFR_male['height']), np.amax(PEFR_male['height']))\n",
    "ax.plot(x, slope*x+intercept)\n",
    "ax.set_ylabel('PEFR')\n",
    "ax.set_xlabel('height')\n",
    "ax.grid()\n",
    "plt.show()\n"
   ],
   "metadata": {
    "collapsed": false,
    "pycharm": {
     "name": "#%%\n"
    }
   }
  },
  {
   "cell_type": "markdown",
   "source": [
    "2. Fit the regression line of PEFR on height. What is the estimated slope, intercept and\n",
    "the standard deviation of the unexplained variation?"
   ],
   "metadata": {
    "collapsed": false,
    "pycharm": {
     "name": "#%% md\n"
    }
   }
  },
  {
   "cell_type": "code",
   "execution_count": 17,
   "outputs": [
    {
     "name": "stdout",
     "output_type": "stream",
     "text": [
      "Slope =  2.871024902699113 . Intercept =  -2.3868303642063324 , Standard error =  1.2152882240369747\n",
      "Standard deviation =  45.4969114720115\n"
     ]
    }
   ],
   "source": [
    "print('Slope = ', slope, '. Intercept = ', intercept,\n",
    "      ', Standard error = ', std_err)\n",
    "\n",
    "# Line-fit values\n",
    "res_2 = 0\n",
    "for i in range(0, len(PEFR_male['height'])):\n",
    "    y_meas = PEFR_male['PEFR'][i]\n",
    "    x_meas = PEFR_male['height'][i]\n",
    "\n",
    "    y_model = slope * x_meas + intercept\n",
    "\n",
    "    res_2 = res_2 + (y_model - y_meas)**2\n",
    "\n",
    "print('Standard deviation = ', np.sqrt(res_2 / (len(PEFR_male['height'] - 2))))"
   ],
   "metadata": {
    "collapsed": false,
    "pycharm": {
     "name": "#%%\n"
    }
   }
  },
  {
   "cell_type": "markdown",
   "source": [
    "3. Generate a new variable height170=height-170 and fit the regression line of PEFR\n",
    "on height170. What is the estimated slope, intercept and the standard deviation of the\n",
    "unexplained variation?\n",
    "Compare with what you found in 2.\n",
    "What is the interpretation of the intercept?\n",
    "Is the slope statistically significant different from zero?\n",
    "\n"
   ],
   "metadata": {
    "collapsed": false
   }
  },
  {
   "cell_type": "markdown",
   "source": [
    "4. Generate the predicted values and the residuals under this model.\n",
    "Make a plot of the residuals against the predicted values and the residuals against\n",
    "height170. Comment on what you see."
   ],
   "metadata": {
    "collapsed": false
   }
  },
  {
   "cell_type": "markdown",
   "source": [
    "5. Make a QQ-plot of the residuals. Comment on what you see.\n",
    "We will now look at both sexes."
   ],
   "metadata": {
    "collapsed": false
   }
  },
  {
   "cell_type": "markdown",
   "source": [
    "6. Run the commands\n",
    "regress PEFR b1.sex##c.height170\n",
    "regress PEFR b2.sex##c.height170\n",
    "and compare with model 2 in the lecture notes."
   ],
   "metadata": {
    "collapsed": false
   }
  },
  {
   "cell_type": "markdown",
   "source": [
    "7. Run the commands:\n",
    "regress PEFR b1.sex c.height170\n",
    "lincom _cons + 2.sex\n",
    "and compare with model 3 in the lecture notes."
   ],
   "metadata": {
    "collapsed": false
   }
  }
 ],
 "metadata": {
  "kernelspec": {
   "name": "pycharm-a2a25830",
   "language": "python",
   "display_name": "PyCharm (Biostatistics)"
  },
  "language_info": {
   "codemirror_mode": {
    "name": "ipython",
    "version": 2
   },
   "file_extension": ".py",
   "mimetype": "text/x-python",
   "name": "python",
   "nbconvert_exporter": "python",
   "pygments_lexer": "ipython2",
   "version": "2.7.6"
  }
 },
 "nbformat": 4,
 "nbformat_minor": 0
}