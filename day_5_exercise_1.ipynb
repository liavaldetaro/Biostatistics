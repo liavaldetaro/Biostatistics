{
 "cells": [
  {
   "cell_type": "code",
   "execution_count": 3,
   "metadata": {
    "pycharm": {
     "name": "#%%\n"
    }
   },
   "outputs": [
    {
     "name": "stderr",
     "output_type": "stream",
     "text": [
      "In /home/liabar/.local/lib/python3.6/site-packages/matplotlib/mpl-data/stylelib/_classic_test.mplstyle: \n",
      "The text.latex.preview rcparam was deprecated in Matplotlib 3.3 and will be removed two minor releases later.\n",
      "In /home/liabar/.local/lib/python3.6/site-packages/matplotlib/mpl-data/stylelib/_classic_test.mplstyle: \n",
      "The mathtext.fallback_to_cm rcparam was deprecated in Matplotlib 3.3 and will be removed two minor releases later.\n",
      "In /home/liabar/.local/lib/python3.6/site-packages/matplotlib/mpl-data/stylelib/_classic_test.mplstyle: Support for setting the 'mathtext.fallback_to_cm' rcParam is deprecated since 3.3 and will be removed two minor releases later; use 'mathtext.fallback : 'cm' instead.\n",
      "In /home/liabar/.local/lib/python3.6/site-packages/matplotlib/mpl-data/stylelib/_classic_test.mplstyle: \n",
      "The validate_bool_maybe_none function was deprecated in Matplotlib 3.3 and will be removed two minor releases later.\n",
      "In /home/liabar/.local/lib/python3.6/site-packages/matplotlib/mpl-data/stylelib/_classic_test.mplstyle: \n",
      "The savefig.jpeg_quality rcparam was deprecated in Matplotlib 3.3 and will be removed two minor releases later.\n",
      "In /home/liabar/.local/lib/python3.6/site-packages/matplotlib/mpl-data/stylelib/_classic_test.mplstyle: \n",
      "The keymap.all_axes rcparam was deprecated in Matplotlib 3.3 and will be removed two minor releases later.\n",
      "In /home/liabar/.local/lib/python3.6/site-packages/matplotlib/mpl-data/stylelib/_classic_test.mplstyle: \n",
      "The animation.avconv_path rcparam was deprecated in Matplotlib 3.3 and will be removed two minor releases later.\n",
      "In /home/liabar/.local/lib/python3.6/site-packages/matplotlib/mpl-data/stylelib/_classic_test.mplstyle: \n",
      "The animation.avconv_args rcparam was deprecated in Matplotlib 3.3 and will be removed two minor releases later.\n"
     ]
    }
   ],
   "source": [
    "import numpy as np\n",
    "import matplotlib.pyplot as plt\n",
    "import statsmodels as stat\n",
    "import pandas as pd\n",
    "from pandas.plotting import scatter_matrix\n",
    "import scipy.stats as stats\n",
    "import statsmodels.api as sm\n",
    "#from day_1 import mean_CI_model, mean_CI_data, mean_PI_model, mean_PI_data\n",
    "import pandas.plotting as pd_plot\n",
    "import scipy as sc\n"
   ]
  },
  {
   "cell_type": "markdown",
   "metadata": {
    "pycharm": {
     "name": "#%% md\n"
    }
   },
   "source": [
    "## Exercise 5.1\n",
    "Consider the data on PEFR, height and, sex we looked at during today’s lecture,\n",
    "PEFR.dta. We will start by looking at the men only (i.e. discard the women) and mimic\n",
    "the analysis done for the women presented in the lectures.\n",
    "### 1) Make a scatter plot of PEFR against height with a fitted line. Comment on what you see.\n",
    " - We can see that the data is very scattered, but it seems to\n",
    " follow an increasing  PERF with height"
   ]
  },
  {
   "cell_type": "code",
   "execution_count": 7,
   "metadata": {
    "pycharm": {
     "name": "#%%\n"
    }
   },
   "outputs": [
    {
     "data": {
      "image/png": "[encoded data removed]",
      "text/plain": [
       "<Figure size 432x288 with 1 Axes>"
      ]
     },
     "metadata": {},
     "output_type": "display_data"
    }
   ],
   "source": [
    "PEFR = pd.read_csv('data/PEFR.csv', sep=',', na_values=\".\")\n",
    "PEFR_male = PEFR.loc[PEFR['sex'] == 'male']\n",
    "\n",
    "# linear regression fit\n",
    "slope, intercept, r_value, p_value, std_err = stats.linregress(PEFR_male['height'],PEFR_male['PEFR'])\n",
    "\n",
    "plt.rcParams.update({'font.size': 14})\n",
    "fig, ax = plt.subplots(1, 1)\n",
    "ax.scatter(PEFR_male['height'], PEFR_male['PEFR'])\n",
    "x = np.linspace(np.amin(PEFR_male['height']), np.amax(PEFR_male['height']))\n",
    "ax.plot(x, slope*x+intercept)\n",
    "ax.set_ylabel('PEFR')\n",
    "ax.set_xlabel('height')\n",
    "ax.grid()\n",
    "plt.show()\n"
   ]
  },
  {
   "cell_type": "markdown",
   "metadata": {
    "pycharm": {
     "name": "#%% md\n"
    }
   },
   "source": [
    "### 2) Fit the regression line of PEFR on height. What is the estimated slope, intercept and the standard deviation of the unexplained variation?"
   ]
  },
  {
   "cell_type": "code",
   "execution_count": 9,
   "metadata": {
    "pycharm": {
     "name": "#%%\n"
    }
   },
   "outputs": [
    {
     "name": "stdout",
     "output_type": "stream",
     "text": [
      "                            OLS Regression Results                            \n",
      "==============================================================================\n",
      "Dep. Variable:                   PEFR   R-squared:                       0.206\n",
      "Model:                            OLS   Adj. R-squared:                  0.191\n",
      "Method:                 Least Squares   F-statistic:                     14.25\n",
      "Date:                Fri, 23 Apr 2021   Prob (F-statistic):           0.000394\n",
      "Time:                        22:26:53   Log-Likelihood:                -303.30\n",
      "No. Observations:                  57   AIC:                             610.6\n",
      "Df Residuals:                      55   BIC:                             614.7\n",
      "Df Model:                           1                                         \n",
      "Covariance Type:            nonrobust                                         \n",
      "==============================================================================\n",
      "                 coef    std err          t      P>|t|      [0.025      0.975]\n",
      "------------------------------------------------------------------------------\n",
      "const       -140.3875    186.771     -0.752      0.455    -514.685     233.910\n",
      "height         3.9745      1.053      3.775      0.000       1.865       6.084\n",
      "==============================================================================\n",
      "Omnibus:                        0.234   Durbin-Watson:                   2.236\n",
      "Prob(Omnibus):                  0.889   Jarque-Bera (JB):                0.213\n",
      "Skew:                          -0.135   Prob(JB):                        0.899\n",
      "Kurtosis:                       2.869   Cond. No.                     4.96e+03\n",
      "==============================================================================\n",
      "\n",
      "Notes:\n",
      "[1] Standard Errors assume that the covariance matrix of the errors is correctly specified.\n",
      "[2] The condition number is large, 4.96e+03. This might indicate that there are\n",
      "strong multicollinearity or other numerical problems.\n"
     ]
    }
   ],
   "source": [
    "X = sm.add_constant(PEFR_male['height']) \n",
    "Y = PEFR_male['PEFR']\n",
    "model_male = sm.OLS(Y, X).fit()\n",
    "print(model_male.summary())"
   ]
  },
  {
   "cell_type": "code",
   "execution_count": 28,
   "metadata": {},
   "outputs": [
    {
     "name": "stdout",
     "output_type": "stream",
     "text": [
      "                            OLS Regression Results                            \n",
      "==============================================================================\n",
      "Dep. Variable:                      y   R-squared:                       0.000\n",
      "Model:                            OLS   Adj. R-squared:                 -0.018\n",
      "Method:                 Least Squares   F-statistic:                 1.146e-14\n",
      "Date:                Fri, 23 Apr 2021   Prob (F-statistic):               1.00\n",
      "Time:                        23:08:13   Log-Likelihood:                -303.30\n",
      "No. Observations:                  57   AIC:                             610.6\n",
      "Df Residuals:                      55   BIC:                             614.7\n",
      "Df Model:                           1                                         \n",
      "Covariance Type:            nonrobust                                         \n",
      "==============================================================================\n",
      "                 coef    std err          t      P>|t|      [0.025      0.975]\n",
      "------------------------------------------------------------------------------\n",
      "const       3.669e-13    186.771   1.96e-15      1.000    -374.297     374.297\n",
      "height      3.203e-15      1.053   3.04e-15      1.000      -2.110       2.110\n",
      "==============================================================================\n",
      "Omnibus:                        0.234   Durbin-Watson:                   2.236\n",
      "Prob(Omnibus):                  0.889   Jarque-Bera (JB):                0.213\n",
      "Skew:                          -0.135   Prob(JB):                        0.899\n",
      "Kurtosis:                       2.869   Cond. No.                     4.96e+03\n",
      "==============================================================================\n",
      "\n",
      "Notes:\n",
      "[1] Standard Errors assume that the covariance matrix of the errors is correctly specified.\n",
      "[2] The condition number is large, 4.96e+03. This might indicate that there are\n",
      "strong multicollinearity or other numerical problems.\n",
      "\n",
      " \n",
      "standard deviation of the residuals:  49.50758734643186\n"
     ]
    }
   ],
   "source": [
    "## residues\n",
    "Residuals_male = PEFR_male['PEFR'] - model_male.predict(X)\n",
    "model_male_res = sm.OLS(Residuals_male, X).fit()\n",
    "print(model_male_res.summary())\n",
    "\n",
    "print('\\n \\n standard deviation of the residuals: ', np.std(Residuals_male))"
   ]
  },
  {
   "cell_type": "markdown",
   "metadata": {},
   "source": [
    "For the residuals, we found:\n",
    "* estimated slope = 3.203e-15 \n",
    "* estimated intercept  = 3.669e-13\n",
    "* standard deviation = 49.5075"
   ]
  },
  {
   "cell_type": "code",
   "execution_count": 51,
   "metadata": {},
   "outputs": [
    {
     "data": {
      "image/png": "[encoded data removed]",
      "text/plain": [
       "<Figure size 432x288 with 1 Axes>"
      ]
     },
     "metadata": {},
     "output_type": "display_data"
    },
    {
     "data": {
      "image/png": "[encoded data removed]",
      "text/plain": [
       "<Figure size 432x288 with 1 Axes>"
      ]
     },
     "metadata": {},
     "output_type": "display_data"
    }
   ],
   "source": [
    "#%%\n",
    "plt.rcParams.update({'font.size': 13})\n",
    "fig, ax = plt.subplots(1, 1)\n",
    "\n",
    "ax.scatter(PEFR_male['height'], Residuals_male, color='C0', alpha=0.6, label='male')\n",
    "ax.plot(PEFR_male['height'], model_male_res.predict(X), color='blue')\n",
    "ax.set_xlabel('Height [cm]')\n",
    "ax.set_ylabel('PEFR')\n",
    "ax.legend()\n",
    "plt.title('Residuals')\n",
    "plt.tight_layout()\n",
    "plt.show()\n",
    "\n",
    "## QQ-plot of the residuals\n",
    "plt.rcParams.update({'font.size': 10})\n",
    "sm.qqplot(Residuals_male, fit=True, line='45')\n",
    "plt.title('Residuals (male)')\n",
    "plt.grid()\n",
    "plt.show()\n"
   ]
  },
  {
   "cell_type": "markdown",
   "metadata": {},
   "source": [
    "### 3) Generate a new variable height170=height-170 and fit the regression line of PEFR on height170. What is the estimated slope, intercept and the standard deviation of the unexplained variation? Compare with what you found in 2. What is the interpretation of the intercept? Is the slope statistically significant different from zero?\n",
    "\n"
   ]
  },
  {
   "cell_type": "code",
   "execution_count": 52,
   "metadata": {},
   "outputs": [
    {
     "name": "stdout",
     "output_type": "stream",
     "text": [
      "                            OLS Regression Results                            \n",
      "==============================================================================\n",
      "Dep. Variable:                   PEFR   R-squared:                       0.206\n",
      "Model:                            OLS   Adj. R-squared:                  0.191\n",
      "Method:                 Least Squares   F-statistic:                     14.25\n",
      "Date:                Sat, 24 Apr 2021   Prob (F-statistic):           0.000394\n",
      "Time:                        00:12:25   Log-Likelihood:                -303.30\n",
      "No. Observations:                  57   AIC:                             610.6\n",
      "Df Residuals:                      55   BIC:                             614.7\n",
      "Df Model:                           1                                         \n",
      "Covariance Type:            nonrobust                                         \n",
      "==============================================================================\n",
      "                 coef    std err          t      P>|t|      [0.025      0.975]\n",
      "------------------------------------------------------------------------------\n",
      "const        535.2740     10.178     52.590      0.000     514.876     555.672\n",
      "height170      3.9745      1.053      3.775      0.000       1.865       6.084\n",
      "==============================================================================\n",
      "Omnibus:                        0.234   Durbin-Watson:                   2.236\n",
      "Prob(Omnibus):                  0.889   Jarque-Bera (JB):                0.213\n",
      "Skew:                          -0.135   Prob(JB):                        0.899\n",
      "Kurtosis:                       2.869   Cond. No.                         14.8\n",
      "==============================================================================\n",
      "\n",
      "Notes:\n",
      "[1] Standard Errors assume that the covariance matrix of the errors is correctly specified.\n"
     ]
    },
    {
     "name": "stderr",
     "output_type": "stream",
     "text": [
      "/usr/lib/python3/dist-packages/ipykernel_launcher.py:1: SettingWithCopyWarning: \n",
      "A value is trying to be set on a copy of a slice from a DataFrame.\n",
      "Try using .loc[row_indexer,col_indexer] = value instead\n",
      "\n",
      "See the caveats in the documentation: https://pandas.pydata.org/pandas-docs/stable/user_guide/indexing.html#returning-a-view-versus-a-copy\n",
      "  \"\"\"Entry point for launching an IPython kernel.\n"
     ]
    }
   ],
   "source": [
    "PEFR_male['height170'] = PEFR_male['height'] - 170\n",
    "\n",
    "X_170 = sm.add_constant(PEFR_male['height170']) \n",
    "model_male_170 = sm.OLS(Y, X_170).fit()\n",
    "print(model_male_170.summary())"
   ]
  },
  {
   "cell_type": "code",
   "execution_count": 67,
   "metadata": {},
   "outputs": [
    {
     "name": "stdout",
     "output_type": "stream",
     "text": [
      "                            OLS Regression Results                            \n",
      "==============================================================================\n",
      "Dep. Variable:                      y   R-squared:                       0.000\n",
      "Model:                            OLS   Adj. R-squared:                 -0.018\n",
      "Method:                 Least Squares   F-statistic:                 1.146e-14\n",
      "Date:                Sat, 24 Apr 2021   Prob (F-statistic):               1.00\n",
      "Time:                        00:17:47   Log-Likelihood:                -303.30\n",
      "No. Observations:                  57   AIC:                             610.6\n",
      "Df Residuals:                      55   BIC:                             614.7\n",
      "Df Model:                           1                                         \n",
      "Covariance Type:            nonrobust                                         \n",
      "==============================================================================\n",
      "                 coef    std err          t      P>|t|      [0.025      0.975]\n",
      "------------------------------------------------------------------------------\n",
      "const       1.406e-13     10.178   1.38e-14      1.000     -20.398      20.398\n",
      "height170  -3.451e-15      1.053  -3.28e-15      1.000      -2.110       2.110\n",
      "==============================================================================\n",
      "Omnibus:                        0.234   Durbin-Watson:                   2.236\n",
      "Prob(Omnibus):                  0.889   Jarque-Bera (JB):                0.213\n",
      "Skew:                          -0.135   Prob(JB):                        0.899\n",
      "Kurtosis:                       2.869   Cond. No.                         14.8\n",
      "==============================================================================\n",
      "\n",
      "Notes:\n",
      "[1] Standard Errors assume that the covariance matrix of the errors is correctly specified.\n",
      "\n",
      " \n",
      " standard deviation of the residuals:  49.507587346431855\n"
     ]
    }
   ],
   "source": [
    "## residues\n",
    "Residuals_male_170 = PEFR_male['PEFR'] - model_male_170.predict(X_170)\n",
    "model_male_res_170 = sm.OLS(Residuals_male_170, X_170).fit()\n",
    "print(model_male_res_170.summary())\n",
    "\n",
    "print('\\n \\n standard deviation of the residuals: ', np.std(Residuals_male_170))"
   ]
  },
  {
   "cell_type": "markdown",
   "metadata": {},
   "source": [
    "The interpretation of the intercept is the PEFR value for a person whose height is 170 cm.\n",
    "* the intercept is 3.9745 (95% CI: 1.1865, 6.084)\n",
    "* the slope is 535.2740 (95% CI: 514.876, 555.672)\n",
    "\n",
    "For the residuals, we find:\n",
    "* standard deviation of 49.5075\n",
    "* the slope is not statistically significant from 0 (95% CI: -2.11, 2.11)"
   ]
  },
  {
   "cell_type": "markdown",
   "metadata": {},
   "source": [
    "### 4) Generate the predicted values and the residuals under this model. Make a plot of the residuals against the predicted values and the residuals against height170. Comment on what you see."
   ]
  },
  {
   "cell_type": "code",
   "execution_count": 73,
   "metadata": {},
   "outputs": [
    {
     "data": {
      "image/png": "[encoded data removed]",
      "text/plain": [
       "<Figure size 432x288 with 2 Axes>"
      ]
     },
     "metadata": {},
     "output_type": "display_data"
    }
   ],
   "source": [
    "plt.rcParams.update({'font.size': 13})\n",
    "fig, ax = plt.subplots(1, 2)\n",
    "\n",
    "ax[0].scatter(PEFR_male['height170'], Residuals_male_170, color='C0', alpha=0.6, label='male')\n",
    "ax[0].plot(PEFR_male['height170'], model_male_res_170.predict(X_170), color='blue')\n",
    "ax[0].set_xlabel('Height - 170 [cm]')\n",
    "ax[0].set_ylabel('PEFR')\n",
    "#ax[0].legend()\n",
    "ax[0].set_title('Res vs height170')\n",
    "\n",
    "ax[1].set_title('Res vs pred vals')\n",
    "ax[1].scatter(model_male_res_170.predict(X_170), Residuals_male_170, color='C1', alpha=0.6, )\n",
    "\n",
    "plt.tight_layout()\n",
    "plt.show()"
   ]
  },
  {
   "cell_type": "markdown",
   "metadata": {},
   "source": [
    "The data seems normally distributed in both cases."
   ]
  },
  {
   "cell_type": "markdown",
   "metadata": {},
   "source": [
    "### 5) Make a QQ-plot of the residuals. Comment on what you see. We will now look at both sexes."
   ]
  },
  {
   "cell_type": "code",
   "execution_count": 74,
   "metadata": {},
   "outputs": [
    {
     "data": {
      "image/png": "[encoded data removed]",
      "text/plain": [
       "<Figure size 432x288 with 1 Axes>"
      ]
     },
     "metadata": {},
     "output_type": "display_data"
    }
   ],
   "source": [
    "## QQ-plot of the residuals\n",
    "plt.rcParams.update({'font.size': 10})\n",
    "sm.qqplot(Residuals_male_170, fit=True, line='45')\n",
    "plt.title('Residuals (male)')\n",
    "plt.grid()\n",
    "plt.show()"
   ]
  },
  {
   "cell_type": "markdown",
   "metadata": {},
   "source": [
    "### 6) Run the commands regress PEFR b1.sex##c.height170 regress PEFR b2.sex##c.height170 and compare with model 2 in the lecture notes."
   ]
  },
  {
   "cell_type": "code",
   "execution_count": null,
   "metadata": {},
   "outputs": [],
   "source": []
  },
  {
   "cell_type": "markdown",
   "metadata": {},
   "source": [
    "### 7) Run the commands: regress PEFR b1.sex c.height170 lincom _cons + 2.sex and compare with model 3 in the lecture notes."
   ]
  },
  {
   "cell_type": "code",
   "execution_count": null,
   "metadata": {},
   "outputs": [],
   "source": []
  }
 ],
 "metadata": {
  "kernelspec": {
   "display_name": "Python 3",
   "language": "python",
   "name": "python3"
  },
  "language_info": {
   "codemirror_mode": {
    "name": "ipython",
    "version": 3
   },
   "file_extension": ".py",
   "mimetype": "text/x-python",
   "name": "python",
   "nbconvert_exporter": "python",
   "pygments_lexer": "ipython3",
   "version": "3.6.9"
  }
 },
 "nbformat": 4,
 "nbformat_minor": 1
}
