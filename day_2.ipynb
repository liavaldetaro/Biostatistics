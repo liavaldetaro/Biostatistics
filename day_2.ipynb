{
 "cells": [
  {
   "cell_type": "code",
   "execution_count": 3,
   "metadata": {
    "collapsed": true
   },
   "outputs": [],
   "source": [
    "import numpy as np\n",
    "import matplotlib.pyplot as plt\n",
    "import statsmodels as stat\n",
    "import seaborn as sea\n",
    "import pandas as pd\n",
    "from pandas.plotting import scatter_matrix\n",
    "import scipy.stats as stats\n",
    "import statsmodels.api as sm\n",
    "#from day_1 import mean_CI_model, mean_CI_data, mean_PI_model, mean_PI_data\n",
    "import pandas.plotting as pd_plot\n",
    "import scipy as sc"
   ]
  },
  {
   "cell_type": "code",
   "execution_count": 4,
   "outputs": [],
   "source": [
    "def mean_CI_data(data, confidence=0.95):\n",
    "    a = 1.0 * np.array(data)\n",
    "    n = len(a)\n",
    "    m, std = np.mean(a), np.std(a)\n",
    "    #h = se * sc.stats.t.ppf((1 + confidence) / 2., n - 1)\n",
    "    h = std * 1.96 / np.sqrt(n)\n",
    "    return m, m - h, m + h\n",
    "\n",
    "\n",
    "def mean_CI_model(mu, std, n, confidence=0.95):\n",
    "    m = mu\n",
    "    h = stats.norm.pdf((1 - confidence) / 2) * std / np.sqrt(n)\n",
    "    return m, m - h, m + h\n",
    "\n",
    "\n",
    "def mean_PI_data(data, confidence=0.95):\n",
    "    a = 1.0 * np.array(data)\n",
    "    n = len(a)\n",
    "    m, std = np.mean(a), np.std(a)\n",
    "    #h = std * sc.stats.t.ppf((1 + confidence) / 2., n - 1)\n",
    "    h = std * 1.96\n",
    "    return m, m - h, m + h\n",
    "\n",
    "\n",
    "def mean_PI_model(mu, std, confidence=0.95):\n",
    "    m = mu\n",
    "    h = stats.norm.pdf((1 - confidence) / 2) * std\n",
    "    return m, m - h, m + h\n",
    "\n",
    "def BootStrap(data1, data2, n=1000):\n",
    "    BootData = pd.concat([data1, data2])\n",
    "    ObsDiff = np.mean(data1)-np.mean(data2)\n",
    "    BootDiff = []\n",
    "    for m in range(n):\n",
    "        ShuffledData = np.random.choice(BootData, len(BootData)) \n",
    "        m1 = np.mean(ShuffledData[0:len(data1)])\n",
    "        m2 = np.mean(ShuffledData[len(data1):])\n",
    "        BootDiff.append(m1-m2)\n",
    "    pval = len(np.where(np.abs(BootDiff) > abs(ObsDiff))[0])/n\n",
    "    \n",
    "    mu, std = stats.norm.fit(BootDiff)\n",
    "    x = np.linspace(np.min(BootDiff), np.max(BootDiff))\n",
    "    p = stats.norm.pdf(x, mu, std)\n",
    "    \n",
    "    plt.figure()\n",
    "    plt.hist(BootDiff, density=True, bins=25, label='$\\mu$ freq.')\n",
    "    plt.plot(x, p, label='N-fit')\n",
    "    plt.axvline(ObsDiff, linestyle='--', color='r', label='Obs.')\n",
    "    plt.grid()\n",
    "    plt.legend()\n",
    "    \n",
    "    print('\\n Sample sizes: Data 1:',str(len(data1)),' Data 2:', str(len(data2)),\\\n",
    "          '\\n Number of permutations: ', str(n))\n",
    "    print('\\n p-value: ', str(pval))\n",
    "    \n",
    "    return BootDiff, pval, std"
   ],
   "metadata": {
    "collapsed": false,
    "pycharm": {
     "name": "#%%\n"
    }
   }
  },
  {
   "cell_type": "markdown",
   "source": [
    "# Exercise 2.1\n",
    "\n",
    "The fish oil supplement data, fishoil.dta, contains the difference in systolic blood\n",
    "pressure. In this exercise we will consider the possible effect of fish oil supplement on the\n",
    "increase in systolic blood pressure and go through an analysis similar to the one you saw\n",
    "at the lecture"
   ],
   "metadata": {
    "collapsed": false,
    "pycharm": {
     "name": "#%% md\n"
    }
   }
  },
  {
   "cell_type": "markdown",
   "source": [
    "1) Make Q-Q plots of the difference in systolic blood pressure for each of the two\n",
    "groups. What are your comments to the plots"
   ],
   "metadata": {
    "collapsed": false,
    "pycharm": {
     "name": "#%% md\n"
    }
   }
  },
  {
   "cell_type": "code",
   "execution_count": 1,
   "outputs": [
    {
     "ename": "NameError",
     "evalue": "name 'pd' is not defined",
     "output_type": "error",
     "traceback": [
      "\u001B[1;31m---------------------------------------------------------------------------\u001B[0m",
      "\u001B[1;31mNameError\u001B[0m                                 Traceback (most recent call last)",
      "\u001B[1;32m<ipython-input-1-b28db18f6835>\u001B[0m in \u001B[0;36m<module>\u001B[1;34m\u001B[0m\n\u001B[1;32m----> 1\u001B[1;33m \u001B[0mfish_oil\u001B[0m \u001B[1;33m=\u001B[0m \u001B[0mpd\u001B[0m\u001B[1;33m.\u001B[0m\u001B[0mread_csv\u001B[0m\u001B[1;33m(\u001B[0m\u001B[1;34m'data/fishoil.csv'\u001B[0m\u001B[1;33m,\u001B[0m \u001B[0msep\u001B[0m\u001B[1;33m=\u001B[0m\u001B[1;34m','\u001B[0m\u001B[1;33m,\u001B[0m \u001B[0mna_values\u001B[0m\u001B[1;33m=\u001B[0m\u001B[1;34m\".\"\u001B[0m\u001B[1;33m)\u001B[0m\u001B[1;33m\u001B[0m\u001B[1;33m\u001B[0m\u001B[0m\n\u001B[0m\u001B[0;32m      2\u001B[0m \u001B[0mprint\u001B[0m\u001B[1;33m(\u001B[0m\u001B[0mfish_oil\u001B[0m\u001B[1;33m)\u001B[0m\u001B[1;33m\u001B[0m\u001B[1;33m\u001B[0m\u001B[0m\n\u001B[0;32m      3\u001B[0m \u001B[1;33m\u001B[0m\u001B[0m\n\u001B[0;32m      4\u001B[0m \u001B[0mfish_oil_C\u001B[0m \u001B[1;33m=\u001B[0m \u001B[0mfish_oil\u001B[0m\u001B[1;33m.\u001B[0m\u001B[0mloc\u001B[0m\u001B[1;33m[\u001B[0m\u001B[0mfish_oil\u001B[0m\u001B[1;33m[\u001B[0m\u001B[1;34m'group'\u001B[0m\u001B[1;33m]\u001B[0m \u001B[1;33m!=\u001B[0m \u001B[1;34m'Fish oil'\u001B[0m\u001B[1;33m]\u001B[0m\u001B[1;33m\u001B[0m\u001B[1;33m\u001B[0m\u001B[0m\n\u001B[0;32m      5\u001B[0m \u001B[0mfish_oil_F\u001B[0m \u001B[1;33m=\u001B[0m \u001B[0mfish_oil\u001B[0m\u001B[1;33m.\u001B[0m\u001B[0mloc\u001B[0m\u001B[1;33m[\u001B[0m\u001B[0mfish_oil\u001B[0m\u001B[1;33m[\u001B[0m\u001B[1;34m'group'\u001B[0m\u001B[1;33m]\u001B[0m \u001B[1;33m==\u001B[0m \u001B[1;34m'Fish oil'\u001B[0m\u001B[1;33m]\u001B[0m\u001B[1;33m\u001B[0m\u001B[1;33m\u001B[0m\u001B[0m\n",
      "\u001B[1;31mNameError\u001B[0m: name 'pd' is not defined"
     ]
    }
   ],
   "source": [
    "fish_oil = pd.read_csv('data/fishoil.csv', sep=',', na_values=\".\")\n",
    "print(fish_oil)\n",
    "\n",
    "fish_oil_C = fish_oil.loc[fish_oil['group'] != 'Fish oil']\n",
    "fish_oil_F = fish_oil.loc[fish_oil['group'] == 'Fish oil']\n",
    "\n",
    "## histogram\n",
    "plt.rcParams.update({'font.size': 10})\n",
    "fig, ax = plt.subplots(1, 1)\n",
    "\n",
    "mu, std = stats.norm.fit(fish_oil_C['systol'])\n",
    "x = np.linspace(-80, 80)\n",
    "pdf_data = stats.norm.pdf(x, mu, std)\n",
    "ax.plot(x, pdf_data, color='blue', label='Control')\n",
    "ax.hist(fish_oil_C['systol'], bins=20, density='True', color='blue', alpha=0.7)\n",
    "\n",
    "mu, std = stats.norm.fit(fish_oil_F['systol'])\n",
    "pdf_data = stats.norm.pdf(x, mu, std)\n",
    "ax.plot(x, pdf_data, color='orange', label='Fish oil')\n",
    "ax.hist(fish_oil_F['systol'], bins=20, density='True', color='orange', alpha=0.7)\n",
    "\n",
    "ax.set_xlabel('Systolic pressure')\n",
    "ax.set_ylabel('Density')\n",
    "ax.legend()\n",
    "ax.grid()\n",
    "plt.show()\n",
    "\n",
    "## QQ plot\n",
    "plt.rcParams.update({'font.size': 10})\n",
    "sm.qqplot(fish_oil_F['systol'], fit=True, line='45')\n",
    "plt.title('Fish oil group')\n",
    "plt.grid()\n",
    "plt.show()\n",
    "\n",
    "plt.rcParams.update({'font.size': 10})\n",
    "sm.qqplot(fish_oil_C['systol'], fit=True, line='45')\n",
    "plt.title('Control group')\n",
    "plt.grid()\n",
    "plt.show()"
   ],
   "metadata": {
    "collapsed": false,
    "pycharm": {
     "name": "#%%\n"
    }
   }
  },
  {
   "cell_type": "markdown",
   "source": [
    "The data seems to be well described by a normal distribution.\n",
    "The \"Fish oil\" group seems to have a slightly higher difference in systolic blood pressure,\n",
    "but we don't know if it's significant yet."
   ],
   "metadata": {
    "collapsed": false,
    "pycharm": {
     "name": "#%% md\n"
    }
   }
  },
  {
   "cell_type": "markdown",
   "source": [
    "2) Make a short description of the difference in systolic blood pressure using\n",
    "bysort group:summarize systol, detail and ttest systol, by(group).\n",
    "Comment on the descriptives (not the test!)."
   ],
   "metadata": {
    "collapsed": false,
    "pycharm": {
     "name": "#%% md\n"
    }
   }
  },
  {
   "cell_type": "code",
   "execution_count": 6,
   "outputs": [
    {
     "name": "stdout",
     "output_type": "stream",
     "text": [
      "Describing the Control group:\n",
      "            obsno      systol     diastol\n",
      "count  213.000000  213.000000  213.000000\n",
      "mean   107.000000    1.403756    1.901408\n",
      "std     61.631972   14.571113    7.528853\n",
      "min      1.000000  -84.000000  -28.000000\n",
      "25%     54.000000   -5.000000   -3.000000\n",
      "50%    107.000000    2.000000    2.000000\n",
      "75%    160.000000   10.000000    7.000000\n",
      "max    213.000000   54.000000   29.000000 \n",
      "\n",
      "Confidence interval:  (-0.5485017893642428, 3.3560135264534448)\n",
      "Prediction interval:  (-27.08850662656051, 29.89601836364971)\n",
      "2-sided ttest:  Ttest_1sampResult(statistic=0.0, pvalue=1.0)\n",
      "Describing the fish oil group:\n",
      "            obsno      systol     diastol\n",
      "count  217.000000  217.000000  217.000000\n",
      "mean   322.000000    2.723502    2.193548\n",
      "std     62.786676   14.690544    8.364904\n",
      "min    214.000000  -44.000000  -28.000000\n",
      "25%    268.000000   -7.000000   -3.000000\n",
      "50%    322.000000    2.000000    2.000000\n",
      "75%    376.000000   12.000000    7.000000\n",
      "max    430.000000   48.000000   31.000000\n",
      "Confidence interval:  (0.7733833998939157, 4.6736212084010145)\n",
      "Prediction interval:  (-26.00354299706256, 31.450547605357492)\n",
      "2-sided ttest:  Ttest_1sampResult(statistic=0.0, pvalue=1.0)\n"
     ]
    }
   ],
   "source": [
    "print('Describing the Control group:')\n",
    "print(fish_oil_C.describe(), '\\n')\n",
    "print('Confidence interval: ', mean_CI_data(fish_oil_C['systol'])[1:])\n",
    "print('Prediction interval: ', mean_PI_data(fish_oil_C['systol'])[1:])\n",
    "print('2-sided ttest: ', stats.ttest_1samp(fish_oil_C['systol'], np.mean(fish_oil_C['systol'])))\n",
    "\n",
    "print('Describing the fish oil group:')\n",
    "print(fish_oil_F.describe())\n",
    "print('Confidence interval: ', mean_CI_data(fish_oil_F['systol'])[1:])\n",
    "print('Prediction interval: ', mean_PI_data(fish_oil_F['systol'])[1:])\n",
    "print('2-sided ttest: ', stats.ttest_1samp(fish_oil_F['systol'], np.mean(fish_oil_F['systol'])))"
   ],
   "metadata": {
    "collapsed": false,
    "pycharm": {
     "name": "#%%\n"
    }
   }
  },
  {
   "cell_type": "markdown",
   "source": [
    "3) Test the hypothesis of the common standard deviation in the two groups."
   ],
   "metadata": {
    "collapsed": false,
    "pycharm": {
     "name": "#%% md\n"
    }
   }
  },
  {
   "cell_type": "code",
   "execution_count": 7,
   "outputs": [
    {
     "name": "stdout",
     "output_type": "stream",
     "text": [
      "Control group: std = 14.536868619951587\n",
      "Fish oil group: std = 14.656655765923484\n",
      "F_obs = 1.0165483620928653\n",
      "p-value = 0.5478904945832221\n"
     ]
    }
   ],
   "source": [
    "# scipy.stats.ttest_ind: two-sided test for the null hypothesis that 2 independent samples\n",
    "# have identical average (expected) values. It assumes that the populations have IDENTICAL\n",
    "# variances by default\n",
    "#print(stats.ttest_ind(fish_oil_C['systol'], fish_oil_F['systol']))\n",
    "\n",
    "# We need to test that! Testing the hypothesis std_control = std_fish_oil is done by considering\n",
    "# the ratio between the two estimated standard deviations\n",
    "# F_obs = [largest observed std/ smallest observed std]^2\n",
    "std_f = np.std(fish_oil_F['systol'])\n",
    "std_c = np.std(fish_oil_C['systol'])\n",
    "print('Control group: std =', std_c)\n",
    "print('Fish oil group: std =', std_f)\n",
    "\n",
    "if std_c >= std_f:\n",
    "    F_obs = (std_c/std_f)**2\n",
    "else:\n",
    "    F_obs = (std_f/std_c)**2\n",
    "\n",
    "print('F_obs =', F_obs)\n",
    "p_value = stats.f.cdf(F_obs, len(fish_oil_C['systol']) - 1, len(fish_oil_F['systol']) - 1)\n",
    "print('p-value =', p_value)"
   ],
   "metadata": {
    "collapsed": false,
    "pycharm": {
     "name": "#%%\n"
    }
   }
  },
  {
   "cell_type": "markdown",
   "source": [
    "The observed variance F_obs is 1.6% higher for the control group. The p-value of 55%\n",
    "means that the difference may be due to sampling variance -> we can accept that std_c = std_f"
   ],
   "metadata": {
    "collapsed": false,
    "pycharm": {
     "name": "#%% md\n"
    }
   }
  },
  {
   "cell_type": "markdown",
   "source": [
    "4) Return to the output from the t-test command and write a conclusion on the\n",
    "possible effect of fish oil on the change in systolic blood pressure during pregnancy.\n",
    "The conclusion should contain information on size of the possible effect, whether or\n",
    "not it is statistical significant and a discussion on the validity of the assumptions\n",
    "behind the statistical analysis."
   ],
   "metadata": {
    "collapsed": false,
    "pycharm": {
     "name": "#%% md\n"
    }
   }
  },
  {
   "cell_type": "code",
   "execution_count": 8,
   "outputs": [
    {
     "name": "stdout",
     "output_type": "stream",
     "text": [
      "2-sided ttest:  Ttest_indResult(statistic=0.93516195642692, pvalue=0.35023215803959706)\n"
     ]
    }
   ],
   "source": [
    "# now that we tested, and assumed correct, the hypothesis of the common standard deviation\n",
    "# in the two groups, we can do a t-test:\n",
    "print('2-sided ttest: ', stats.ttest_ind(fish_oil_F['systol'],fish_oil_C['systol']))"
   ],
   "metadata": {
    "collapsed": false,
    "pycharm": {
     "name": "#%%\n"
    }
   }
  },
  {
   "cell_type": "markdown",
   "source": [
    "We found a very high p-value when comparing the two samples, p=35%. Therefore, we can\n",
    "conclude that the difference observed is NOT statistically significant. We cannot reject the\n",
    "null hypothesis"
   ],
   "metadata": {
    "collapsed": false,
    "pycharm": {
     "name": "#%% md\n"
    }
   }
  },
  {
   "cell_type": "markdown",
   "source": [
    "## Exercise 2.2\n",
    "In the experiment above two women in the control group had a decrease in the systolic\n",
    "blood pressure of more than 50 mmHg."
   ],
   "metadata": {
    "collapsed": false,
    "pycharm": {
     "name": "#%% md\n"
    }
   }
  },
  {
   "cell_type": "markdown",
   "source": [
    "1) Exclude these two women and repeat the analysis above. How does this affect your\n",
    "conclusions?"
   ],
   "metadata": {
    "collapsed": false,
    "pycharm": {
     "name": "#%% md\n"
    }
   }
  },
  {
   "cell_type": "code",
   "execution_count": 9,
   "outputs": [
    {
     "name": "stdout",
     "output_type": "stream",
     "text": [
      "Control group: std = 14.0\n",
      "Fish oil group: std = 14.656655765923484\n",
      "F_obs = 1.0960079502080518\n",
      "p-value = 0.7036860617879118\n",
      "1-sided ttest:  Ttest_indResult(statistic=6.9557553425664915, pvalue=4.07428634689188e-11)\n"
     ]
    }
   ],
   "source": [
    "fish_oil_C_rem_outl = []\n",
    "for i in range(0, len(fish_oil_C['systol'])):\n",
    "    if fish_oil_C['systol'][i] < -50:\n",
    "        fish_oil_C_rem_outl.append(fish_oil_C['systol'][i])\n",
    "\n",
    "# testing the hypothesis of common std\n",
    "std_f = np.std(fish_oil_F['systol'])\n",
    "std_c = np.std(fish_oil_C_rem_outl)\n",
    "print('Control group: std =', std_c)\n",
    "print('Fish oil group: std =', std_f)\n",
    "\n",
    "if std_c >= std_f:\n",
    "    F_obs = (std_c/std_f)**2\n",
    "else:\n",
    "    F_obs = (std_f/std_c)**2\n",
    "\n",
    "print('F_obs =', F_obs)\n",
    "p_value = stats.f.cdf(F_obs, len(fish_oil_C_rem_outl) - 1, len(fish_oil_F['systol']) - 1)\n",
    "print('p-value =', p_value)\n",
    "\n",
    "# High p-value -> we accept that the difference is due to sampling variance\n",
    "\n",
    "#Doing a t-test\n",
    "print('1-sided ttest: ', stats.ttest_ind(fish_oil_F['systol'],fish_oil_C_rem_outl))"
   ],
   "metadata": {
    "collapsed": false,
    "pycharm": {
     "name": "#%%\n"
    }
   }
  },
  {
   "cell_type": "markdown",
   "source": [
    "Removing the two outliers we get a very small p-value. This would mean that the difference\n",
    "observed IS statistically significant. But we are removing data points, so let's continue\n",
    "the analysis..."
   ],
   "metadata": {
    "collapsed": false,
    "pycharm": {
     "name": "#%% md\n"
    }
   }
  },
  {
   "cell_type": "markdown",
   "source": [
    "2) The approach of excluding the potential ourliers is easy, but we are then no longer\n",
    "analyzing the complete data. Another approach is to estimate the standard error using a\n",
    "resampling technique called bootstrap. Here we create similar studies by sampling data\n",
    "from each of the two groups with replacement and compute estimated differences in\n",
    "2 means in each study. The variation between these estimated means is an estimate of the\n",
    "standard error. The bootstrap technique does not require that the observations follow a\n",
    "normal distribution. The command bootstrap dif=(r(mu_2)-r(mu_1)), reps(1000): ttest systol , by(group)\n",
    "Compare the results of the bootstrap to the t-test used in Exercise 2.1.\n"
   ],
   "metadata": {
    "collapsed": false,
    "pycharm": {
     "name": "#%% md\n"
    }
   }
  },
  {
   "cell_type": "code",
   "execution_count": 10,
   "outputs": [
    {
     "name": "stdout",
     "output_type": "stream",
     "text": [
      "Standard error =  0.9177539710822442\n",
      "(1.3197464356028643, inf)\n"
     ]
    },
    {
     "name": "stderr",
     "output_type": "stream",
     "text": [
      "C:\\Users\\liabar\\AppData\\Roaming\\Python\\Python37\\site-packages\\bootstrap_stat\\bootstrap_stat.py:688: RuntimeWarning: divide by zero encountered in true_divide\n",
      "  z_star = (theta_star - theta_hat) / se_star\n"
     ]
    }
   ],
   "source": [
    "from bootstrap_stat import bootstrap_stat as bp\n",
    "comb = [fish_oil_F['systol'], fish_oil_C['systol']]\n",
    "dist = bp.EmpiricalDistribution(comb)\n",
    "\n",
    "def statistic(comb):\n",
    "    return np.mean(comb[0]) - np.mean(comb[1])\n",
    "\n",
    "print('Standard error = ', bp.standard_error(dist, statistic, B=1000))\n",
    "print(bp.t_interval(dist, statistic, statistic(comb)))\n",
    "# the confidence intervals are not working - see why\n",
    "#ci_low, ci_high = bp.bcanon_interval(dist, statistic, comb, alpha=0.025)\n",
    "#print(ci_low, ci_high)"
   ],
   "metadata": {
    "collapsed": false,
    "pycharm": {
     "name": "#%%\n"
    }
   }
  },
  {
   "cell_type": "markdown",
   "source": [
    "## Exercise 2.3\n",
    "\n",
    "The data set hp.dta contains data on the heart period (the average time in ms between two\n",
    "consecutive heart beats) during night and day for a group of healthy persons divided into\n",
    "physically active and passive persons."
   ],
   "metadata": {
    "collapsed": false,
    "pycharm": {
     "name": "#%% md\n"
    }
   }
  },
  {
   "cell_type": "markdown",
   "source": [
    "1) Describe the heart period during day for the ‘active’ and the ‘passive’ persons"
   ],
   "metadata": {
    "collapsed": false,
    "pycharm": {
     "name": "#%% md\n"
    }
   }
  },
  {
   "cell_type": "code",
   "execution_count": 11,
   "outputs": [
    {
     "name": "stdout",
     "output_type": "stream",
     "text": [
      "      group   day  night\n",
      "0   passive   740    923\n",
      "1   passive   779    922\n",
      "2    active  1045   1355\n",
      "3    active   714    849\n",
      "4   passive   772   1006\n",
      "..      ...   ...    ...\n",
      "94  passive   677    894\n",
      "95  passive   727    932\n",
      "96  passive   805    933\n",
      "97  passive  1005   1232\n",
      "98   active  1047   1310\n",
      "\n",
      "[99 rows x 3 columns]\n",
      "Active group\n",
      "                day        night\n",
      "count    34.000000    34.000000\n",
      "mean    854.617647  1070.617647\n",
      "std     116.375571   160.458626\n",
      "min     631.000000   753.000000\n",
      "25%     763.000000   950.250000\n",
      "50%     852.000000  1048.000000\n",
      "75%     910.500000  1168.000000\n",
      "max    1199.000000  1456.000000 \n",
      " \n",
      "\n",
      "Passive group\n",
      "                day        night\n",
      "count    65.000000    65.000000\n",
      "mean    777.707692   947.323077\n",
      "std      96.584277   125.071493\n",
      "min     625.000000   710.000000\n",
      "25%     711.000000   882.000000\n",
      "50%     771.000000   930.000000\n",
      "75%     813.000000  1002.000000\n",
      "max    1125.000000  1415.000000\n"
     ]
    },
    {
     "data": {
      "text/plain": "<Figure size 432x288 with 1 Axes>",
      "image/png": "[encoded data removed]"
     },
     "metadata": {
      "needs_background": "light"
     },
     "output_type": "display_data"
    },
    {
     "data": {
      "text/plain": "<Figure size 432x288 with 1 Axes>",
      "image/png": "[encoded data removed]"
     },
     "metadata": {
      "needs_background": "light"
     },
     "output_type": "display_data"
    },
    {
     "data": {
      "text/plain": "<Figure size 432x288 with 1 Axes>",
      "image/png": "[encoded data removed]"
     },
     "metadata": {
      "needs_background": "light"
     },
     "output_type": "display_data"
    },
    {
     "data": {
      "text/plain": "<Figure size 432x288 with 1 Axes>",
      "image/png": "[encoded data removed]"
     },
     "metadata": {
      "needs_background": "light"
     },
     "output_type": "display_data"
    }
   ],
   "source": [
    "Heart = pd.read_csv('data/hp.csv', sep=',', na_values=\".\")\n",
    "print(Heart)\n",
    "Heart_active = Heart.loc[Heart['group'] == 'active']\n",
    "Heart_passive = Heart.loc[Heart['group'] == 'passive']\n",
    "\n",
    "print('Active group\\n', Heart_active.describe(), '\\n \\n')\n",
    "print('Passive group\\n', Heart_passive.describe())\n",
    "\n",
    "## QQ plot\n",
    "plt.rcParams.update({'font.size': 10})\n",
    "sm.qqplot(Heart_active['day'], fit=True, line='45')\n",
    "plt.title('Active person, day')\n",
    "plt.grid()\n",
    "plt.show()\n",
    "\n",
    "plt.rcParams.update({'font.size': 10})\n",
    "sm.qqplot(Heart_active['night'], fit=True, line='45')\n",
    "plt.title('Active person, night')\n",
    "plt.grid()\n",
    "plt.show()\n",
    "\n",
    "plt.rcParams.update({'font.size': 10})\n",
    "sm.qqplot(Heart_passive['day'], fit=True, line='45')\n",
    "plt.title('Passive person, day')\n",
    "plt.grid()\n",
    "plt.show()\n",
    "\n",
    "plt.rcParams.update({'font.size': 10})\n",
    "sm.qqplot(Heart_passive['night'], fit=True, line='45')\n",
    "plt.title('Passive person, night')\n",
    "plt.grid()\n",
    "plt.show()\n"
   ],
   "metadata": {
    "collapsed": false,
    "pycharm": {
     "name": "#%%\n"
    }
   }
  },
  {
   "cell_type": "markdown",
   "source": [
    "2) Calculate a 95% prediction interval for the heart period for a passive person\n",
    "during day. Do the same for the active group. Compare the intervals and comment\n",
    "on whether these are valid 95%-prediction intervals."
   ],
   "metadata": {
    "collapsed": false,
    "pycharm": {
     "name": "#%% md\n"
    }
   }
  },
  {
   "cell_type": "code",
   "execution_count": 22,
   "outputs": [
    {
     "name": "stderr",
     "output_type": "stream",
     "text": [
      "C:\\Users\\liabar\\AppData\\Roaming\\Python\\Python37\\site-packages\\ipykernel_launcher.py:2: SettingWithCopyWarning: \n",
      "A value is trying to be set on a copy of a slice from a DataFrame.\n",
      "Try using .loc[row_indexer,col_indexer] = value instead\n",
      "\n",
      "See the caveats in the documentation: https://pandas.pydata.org/pandas-docs/stable/user_guide/indexing.html#returning-a-view-versus-a-copy\n",
      "  \n",
      "C:\\Users\\liabar\\AppData\\Roaming\\Python\\Python37\\site-packages\\ipykernel_launcher.py:3: SettingWithCopyWarning: \n",
      "A value is trying to be set on a copy of a slice from a DataFrame.\n",
      "Try using .loc[row_indexer,col_indexer] = value instead\n",
      "\n",
      "See the caveats in the documentation: https://pandas.pydata.org/pandas-docs/stable/user_guide/indexing.html#returning-a-view-versus-a-copy\n",
      "  This is separate from the ipykernel package so we can avoid doing imports until\n"
     ]
    },
    {
     "data": {
      "text/plain": "<Figure size 432x288 with 2 Axes>",
      "image/png": "[encoded data removed]"
     },
     "metadata": {
      "needs_background": "light"
     },
     "output_type": "display_data"
    },
    {
     "name": "stdout",
     "output_type": "stream",
     "text": [
      "Passive person, daytime: 95% PI =  (777.7076923076924, 589.864347021311, 965.5510375940737)\n",
      "Active person, daytime: 95% PI =  (854.6176470588235, 629.900915713085, 1079.334378404562)\n",
      "Log transform Passive person, daytime: 95% PI =  [772.21145326 613.5465844  971.90750257]\n",
      "Log transform Active person, daytime: 95% PI =  [ 847.1773736   654.54201286 1096.50639414]\n"
     ]
    }
   ],
   "source": [
    "# Log transform\n",
    "Heart_active['log day'] = np.log(Heart_active['day'])\n",
    "Heart_passive['log day'] = np.log(Heart_passive['day'])\n",
    "\n",
    "plt.rcParams.update({'font.size': 10})\n",
    "fig, ax = plt.subplots(1, 2)\n",
    "mu, std = stats.norm.fit(Heart_passive['day'])\n",
    "x = np.linspace(500, 1200)\n",
    "pdf_data = stats.norm.pdf(x, mu, std)\n",
    "ax[0].plot(x, pdf_data, color='blue', label='Passive')\n",
    "ax[0].hist(Heart_passive['day'], bins=10, density='True', color='blue', alpha=0.7)\n",
    "\n",
    "mu, std = stats.norm.fit(Heart_active['day'])\n",
    "pdf_data = stats.norm.pdf(x, mu, std)\n",
    "ax[0].plot(x, pdf_data, color='orange', label='Active')\n",
    "ax[0].hist(Heart_active['day'], bins=10, density='True', color='orange', alpha=0.7)\n",
    "ax[0].legend()\n",
    "ax[0].grid()\n",
    "\n",
    "mu, std = stats.norm.fit(Heart_passive['log day'])\n",
    "x = np.linspace(np.log(500), np.log(1200))\n",
    "pdf_data = stats.norm.pdf(x, mu, std)\n",
    "ax[1].plot(x, pdf_data, color='blue', label='Passive')\n",
    "ax[1].hist(Heart_passive['log day'], bins=10, density='True', color='blue', alpha=0.7)\n",
    "\n",
    "mu, std = stats.norm.fit(Heart_active['log day'])\n",
    "pdf_data = stats.norm.pdf(x, mu, std)\n",
    "ax[1].plot(x, pdf_data, color='orange', label='Active')\n",
    "ax[1].hist(Heart_active['log day'], bins=10, density='True', color='orange', alpha=0.7)\n",
    "\n",
    "ax[1].set_xlabel('log Heart rate')\n",
    "ax[1].set_ylabel('Density')\n",
    "ax[1].legend()\n",
    "ax[1].grid()\n",
    "plt.show()\n",
    "\n",
    "print('Passive person, daytime: 95% PI = ', mean_PI_data(Heart_passive['day']))\n",
    "print('Active person, daytime: 95% PI = ', mean_PI_data(Heart_active['day']))\n",
    "print('Log transform Passive person, daytime: 95% PI = ', np.exp(mean_PI_data(Heart_passive['log day'])))\n",
    "print('Log transform Active person, daytime: 95% PI = ', np.exp(mean_PI_data(Heart_active['log day'])))"
   ],
   "metadata": {
    "collapsed": false,
    "pycharm": {
     "name": "#%%\n"
    }
   }
  },
  {
   "cell_type": "markdown",
   "source": [
    "The 95% PI is not valid for the non-transformed sample, as the data cannot be well approximated by a normal\n",
    "distribution - especially the \"passive\" group. The log transformed analysis\n",
    "is a little better, but it still doesn't look completely correct"
   ],
   "metadata": {
    "collapsed": false,
    "pycharm": {
     "name": "#%% md\n"
    }
   }
  },
  {
   "cell_type": "markdown",
   "source": [
    "3) Compare the heart period during day in the two groups. The comparison should\n",
    "(among other things) include a non-parametric test of no difference between the two\n",
    "groups."
   ],
   "metadata": {
    "collapsed": false,
    "pycharm": {
     "name": "#%% md\n"
    }
   }
  },
  {
   "cell_type": "code",
   "execution_count": 21,
   "outputs": [
    {
     "name": "stdout",
     "output_type": "stream",
     "text": [
      "F_obs = 1.2580238176405074\n",
      "(std_p==std_a) p-value = 0.7864622346976272\n",
      "1-sided ttest:  Ttest_indResult(statistic=3.5390532654052405, pvalue=0.0006183790857125774)\n",
      "Mann-Whitney test:  MannwhitneyuResult(statistic=626.0, pvalue=0.0002109033499639401)\n"
     ]
    }
   ],
   "source": [
    "#First, we test the std_p = std_a hypothesis for the log transformed data:\n",
    "std_p = np.std(np.log(Heart_passive['day']))\n",
    "std_a = np.std(np.log(Heart_active['day']))\n",
    "\n",
    "if std_a >= std_p:\n",
    "    F_obs = (std_a/std_p)**2\n",
    "else:\n",
    "    F_obs = (std_p/std_a)**2\n",
    "\n",
    "print('F_obs =', F_obs)\n",
    "p_value = stats.f.cdf(F_obs, len(Heart_active['day']) - 1, len(Heart_passive['day']) - 1)\n",
    "print('(std_p==std_a) p-value =', p_value)\n",
    "# High p-value -> we accept that the difference is due to sampling variance\n",
    "\n",
    "#Doing a t-test\n",
    "print('2-sided ttest: ', stats.ttest_ind(np.log(Heart_active['day']),\n",
    "                                         np.log(Heart_passive['day'])))\n",
    "\n",
    "# we will use the Mann-Whitney U test: a non-parametric test for the\n",
    "# null hypothesis\n",
    "mann_whitney = stats.mannwhitneyu(Heart_active['day'], Heart_passive['day'])\n",
    "print('Mann-Whitney test: ', mann_whitney)"
   ],
   "metadata": {
    "collapsed": false,
    "pycharm": {
     "name": "#%%\n"
    }
   }
  },
  {
   "cell_type": "markdown",
   "source": [
    "First we tested to see if the variance of the two groups is the same; this has a high\n",
    "p-value, so we can accept that the difference is due to sampling variance. Additionally,\n",
    "when testing for the null hypothesis (of the two data sets being the same) we get a\n",
    "small p-value, indicating that the difference observed is statistically significant (with\n",
    "parametric t-test AND the non-parametric Mann-Whitney test)"
   ],
   "metadata": {
    "collapsed": false,
    "pycharm": {
     "name": "#%% md\n"
    }
   }
  },
  {
   "cell_type": "markdown",
   "source": [
    "4) Write a conclusion on the possible difference between the heart period during the\n",
    "day for physical active and passive persons. The conclusion should contain\n",
    "information on size of the possible difference, whether or not it is statistical\n",
    "significant and a discussion on the validity of the assumptions behind the statistical\n",
    "analysis."
   ],
   "metadata": {
    "collapsed": false,
    "pycharm": {
     "name": "#%% md\n"
    }
   }
  },
  {
   "cell_type": "markdown",
   "source": [
    "We found a statistically significant difference between the heart rates of active and\n",
    "not active people during the day time. Assuming a normal distribution of the log-transformed\n",
    "data, the mean value for the passive group was 772 (95% PI = 613, 971). For the active\n",
    "group, this was 847 (95% PI = 654, 1096). The difference was statistically significant\n",
    "for both a parametric (p = 0.0006) and non-parametric tests (p = 0.0002)."
   ],
   "metadata": {
    "collapsed": false,
    "pycharm": {
     "name": "#%% md\n"
    }
   }
  },
  {
   "cell_type": "markdown",
   "source": [
    "## Exercise 2.4\n",
    "This exercise focuses on power and sample size calculations. Consider the study on\n",
    "diastolic blood pressure (DBP) used in the lecture on sample size calculation."
   ],
   "metadata": {
    "collapsed": false,
    "pycharm": {
     "name": "#%% md\n"
    }
   }
  },
  {
   "cell_type": "markdown",
   "source": [
    "1) Suppose that you want to design a study comparing two groups, with the same\n",
    "standard deviation (sd=8) and a hypothesised difference in means of 5:\n",
    "How many participants should you have in each group to obtain a power of 90%."
   ],
   "metadata": {
    "collapsed": false,
    "pycharm": {
     "name": "#%% md\n"
    }
   }
  },
  {
   "cell_type": "code",
   "execution_count": 57,
   "outputs": [
    {
     "name": "stdout",
     "output_type": "stream",
     "text": [
      "# participants for a power of 90% =  69\n"
     ]
    },
    {
     "data": {
      "text/plain": "<Figure size 432x288 with 1 Axes>",
      "image/png": "[encoded data removed]"
     },
     "metadata": {
      "needs_background": "light"
     },
     "output_type": "display_data"
    }
   ],
   "source": [
    "import statsmodels\n",
    "\n",
    "power = []\n",
    "for n_obs in range(10, 500):\n",
    "    pow = statsmodels.stats.power.TTestIndPower.power(self=pow, effect_size=5/9, nobs1=n_obs,\n",
    "                                                             alpha=0.05, ratio=1)\n",
    "    power.append(100*pow)\n",
    "    if pow >= 0.899 and pow<=0.901:\n",
    "        print('# participants for a power of 90% = ', n_obs)\n",
    "\n",
    "plt.rcParams.update({'font.size': 10})\n",
    "fig, ax = plt.subplots(1, 1)\n",
    "ax.plot(power)\n",
    "ax.set_xlabel('# participants')\n",
    "ax.set_ylabel('Power [%]')\n",
    "plt.show()"
   ],
   "metadata": {
    "collapsed": false,
    "pycharm": {
     "name": "#%%\n"
    }
   }
  },
  {
   "cell_type": "markdown",
   "source": [
    "2) Now, suppose that you have planned a study with one intervention group and one\n",
    "control group both with 200 participants. Your plan is to compare the systolic blood\n",
    "pressure in the two groups and you expect the mean SBP in the control group to be\n",
    "130 mmHg and in the intervention group to be 125 mmHg. Furthermore, your best\n",
    "guess is that the standard deviation in both groups will be 25 mmHg. Determine the\n",
    "statistical power of this study."
   ],
   "metadata": {
    "collapsed": false,
    "pycharm": {
     "name": "#%% md\n"
    }
   }
  },
  {
   "cell_type": "code",
   "execution_count": 59,
   "outputs": [
    {
     "name": "stdout",
     "output_type": "stream",
     "text": [
      "The statistical power of this study is:  51.40816347005528 %\n"
     ]
    }
   ],
   "source": [
    "pow = statsmodels.stats.power.TTestIndPower.power(self=pow, effect_size=(130-125)/25,\n",
    "                                                  nobs1=200, alpha=0.05, ratio=1)\n",
    "print('The statistical power of this study is: ', pow*100, '%')"
   ],
   "metadata": {
    "collapsed": false,
    "pycharm": {
     "name": "#%%\n"
    }
   }
  },
  {
   "cell_type": "markdown",
   "source": [
    "## Exercise 2.5\n",
    "We continue with heart period data, hp.dta. Generate a new variable containing the\n",
    "natural logarithm of the heart period during day (i.e. log(day)).\n",
    "\n",
    "1. Repeat what you did in exercise 2.3 on this variable.\n",
    " - Done in the exercise 2.3 - the data was not normally distributed without a log transformation.\n",
    "2. Comment on the similarities and differences on the two set of analyses.\n"
   ],
   "metadata": {
    "collapsed": false,
    "pycharm": {
     "name": "#%% md\n"
    }
   }
  },
  {
   "cell_type": "markdown",
   "source": [
    "## Exercise 2.6\n",
    "Here we will return to the birth of sib pairs we considered last week.\n",
    "Again we will restrict the analysis to sib pairs where the oldest is a boy.\n",
    "\n",
    "1. Compare the birth weight of the youngest for girls and boys.\n",
    "Write a conclusion of the analysis. (The conclusion should contain information on\n",
    "size of the possible difference, whether or not it is statistical significant and a\n",
    "discussion on the validity of the assumptions behind the statistical analysis.)"
   ],
   "metadata": {
    "collapsed": false,
    "pycharm": {
     "name": "#%% md\n"
    }
   }
  },
  {
   "cell_type": "markdown",
   "source": [
    "2. Compare the difference in birth weight for the two sibs if the youngest is a girl to\n",
    "the difference if the youngest is a boy. Write a conclusion of the analysis. (The\n",
    "conclusion should contain information on size of the possible effect, whether or not\n",
    "it is statistical significant and a discussion on the validity of the assumptions behind\n",
    "the statistical analysis.)"
   ],
   "metadata": {
    "collapsed": false,
    "pycharm": {
     "name": "#%% md\n"
    }
   }
  },
  {
   "cell_type": "markdown",
   "source": [
    "3. Comment on the similarities and differences between the two analyses and results.\n",
    "\n",
    "# read more on paired and unpaired t-test!!\n",
    "\n",
    "p-value = 2% ? (more or less)"
   ],
   "metadata": {
    "collapsed": false,
    "pycharm": {
     "name": "#%% md\n"
    }
   }
  }
 ],
 "metadata": {
  "kernelspec": {
   "name": "pycharm-a2a25830",
   "language": "python",
   "display_name": "PyCharm (Biostatistics)"
  },
  "language_info": {
   "codemirror_mode": {
    "name": "ipython",
    "version": 2
   },
   "file_extension": ".py",
   "mimetype": "text/x-python",
   "name": "python",
   "nbconvert_exporter": "python",
   "pygments_lexer": "ipython2",
   "version": "2.7.6"
  }
 },
 "nbformat": 4,
 "nbformat_minor": 0
}