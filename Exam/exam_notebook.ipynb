{
 "cells": [
  {
   "cell_type": "code",
   "execution_count": 7,
   "metadata": {},
   "outputs": [],
   "source": [
    "import numpy as np\n",
    "import matplotlib.pyplot as plt\n",
    "import statsmodels as stat\n",
    "import pandas as pd\n",
    "from pandas.plotting import scatter_matrix\n",
    "import scipy.stats as stats\n",
    "import statsmodels.api as sm\n",
    "import pandas.plotting as pd_plot\n",
    "import scipy as sc\n",
    "from pandas import DataFrame\n",
    "import statsmodels.api as sm\n",
    "from bioinfokit.analys import stat\n",
    "import seaborn as sns\n",
    "\n",
    "import warnings\n",
    "warnings.filterwarnings(\"ignore\")\n"
   ]
  },
  {
   "cell_type": "code",
   "execution_count": 9,
   "metadata": {},
   "outputs": [
    {
     "name": "stdout",
     "output_type": "stream",
     "text": [
      "        id   chol  stab.glu   hdl       ratio       glyhb    location  age  \\\n",
      "0     1000  203.0        82  56.0   3,5999999  4,30999994  Buckingham   46   \n",
      "1     1001  165.0        97  24.0   6,9000001  4,44000006  Buckingham   29   \n",
      "2     1002  228.0        92  37.0  6,19999981  4,63999987  Buckingham   58   \n",
      "3     1003   78.0        93  12.0         6,5  4,63000011  Buckingham   67   \n",
      "4     1005  249.0        90  28.0  8,89999962  7,71999979  Buckingham   64   \n",
      "..     ...    ...       ...   ...         ...         ...         ...  ...   \n",
      "398  41506  296.0       369  46.0   6,4000001  16,1100006      Louisa   53   \n",
      "399  41507  284.0        89  54.0  5,30000019  4,38999987      Louisa   51   \n",
      "400  41510  194.0       269  38.0   5,0999999  13,6300001      Louisa   29   \n",
      "401  41752  199.0        76  52.0  3,79999995  4,48999977      Louisa   41   \n",
      "402  41756  159.0        88  79.0           2         NaN      Louisa   68   \n",
      "\n",
      "     gender  height  weight   frame  bp.1s  bp.1d  bp.2s  bp.2d  waist   hip  \\\n",
      "0    female    62.0   121.0  medium  118.0   59.0    NaN    NaN   29.0  38.0   \n",
      "1    female    64.0   218.0   large  112.0   68.0    NaN    NaN   46.0  48.0   \n",
      "2    female    61.0   256.0   large  190.0   92.0  185.0   92.0   49.0  57.0   \n",
      "3      male    67.0   119.0   large  110.0   50.0    NaN    NaN   33.0  38.0   \n",
      "4      male    68.0   183.0  medium  138.0   80.0    NaN    NaN   44.0  41.0   \n",
      "..      ...     ...     ...     ...    ...    ...    ...    ...    ...   ...   \n",
      "398    male    69.0   173.0  medium  138.0   94.0  130.0   94.0   35.0  39.0   \n",
      "399  female    63.0   154.0  medium  140.0  100.0  146.0  102.0   32.0  43.0   \n",
      "400  female    69.0   167.0   small  120.0   70.0    NaN    NaN   33.0  40.0   \n",
      "401  female    63.0   197.0  medium  120.0   78.0    NaN    NaN   41.0  48.0   \n",
      "402  female    64.0   220.0  medium  100.0   72.0    NaN    NaN   49.0  58.0   \n",
      "\n",
      "     time.ppn  \n",
      "0       720.0  \n",
      "1       360.0  \n",
      "2       180.0  \n",
      "3       480.0  \n",
      "4       300.0  \n",
      "..        ...  \n",
      "398     210.0  \n",
      "399     180.0  \n",
      "400      20.0  \n",
      "401     255.0  \n",
      "402     900.0  \n",
      "\n",
      "[403 rows x 19 columns]\n"
     ]
    }
   ],
   "source": [
    "df = pd.read_csv('data/diabetes.csv', sep=';', decimal=\".\")\n",
    "print(df)"
   ]
  },
  {
   "cell_type": "markdown",
   "metadata": {},
   "source": [
    "## Introduction \n",
    "The data consist of 19 variables on 403 subjects from 1046 subjects who were interviewed\n",
    "in a study to understand the prevalence of obesity, diabetes, and other cardiovascular risk\n",
    "factors in central Virginia for African Americans. According to Dr John Hong, Diabetes\n",
    "Mellitus Type II (adult onset diabetes) is associated most strongly with obesity. The\n",
    "waist/hip ratio may be a predictor in diabetes and heart disease. DM II is also associated\n",
    "with hypertension - they may both be part of \"Syndrome X\". The 403 subjects were the\n",
    "ones who were actually screened for diabetes. Glycosolated hemoglobin > 7.0 is usually\n",
    "taken as a positive diagnosis of diabetes."
   ]
  },
  {
   "cell_type": "markdown",
   "metadata": {},
   "source": [
    "#### 1. Compare the two diastolic blood pressure measurements regarding any systematic difference and quantify the individual as well as possible systematic difference between the two measurements"
   ]
  },
  {
   "cell_type": "markdown",
   "metadata": {},
   "source": [
    "#### 2. Compare the waist/hip ratio between individuals with and without diabetes.\n"
   ]
  },
  {
   "cell_type": "markdown",
   "metadata": {},
   "source": [
    "#### 3. Which of the three predictors: waist, hip and waist/hip ratio seem the most strong predictor for diabetes? (Hint: create for example three exposure groups of equal size for each of waist, hip and waist/hip ratio and compute your favorite binary association measure. The analysis should include test for trend)."
   ]
  },
  {
   "cell_type": "markdown",
   "metadata": {},
   "source": [
    "#### 4. Estimate the correlation between the waist and hip measurement. (Hint: both Lecture3.r and Lecture3.do have been updated. Remember the confidence interval). Even though the waist and hip measurement show a high correlation, we will attempt to separate their effect in a regression analysis. Since the data is limited, we will assume no interaction between the waist and hip measurement on the risk of diabetes."
   ]
  },
  {
   "cell_type": "markdown",
   "metadata": {},
   "source": [
    "#### 5. Quantify the effect (association) of the hip measurement, adjusting for the possible effect of the waist measurement, on the risk of diabetes. "
   ]
  },
  {
   "cell_type": "code",
   "execution_count": null,
   "metadata": {},
   "outputs": [],
   "source": []
  }
 ],
 "metadata": {
  "kernelspec": {
   "display_name": "Python 3",
   "language": "python",
   "name": "python3"
  },
  "language_info": {
   "codemirror_mode": {
    "name": "ipython",
    "version": 3
   },
   "file_extension": ".py",
   "mimetype": "text/x-python",
   "name": "python",
   "nbconvert_exporter": "python",
   "pygments_lexer": "ipython3",
   "version": "3.6.9"
  }
 },
 "nbformat": 4,
 "nbformat_minor": 1
}
