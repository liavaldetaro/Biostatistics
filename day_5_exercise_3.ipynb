{
 "cells": [
  {
   "cell_type": "code",
   "execution_count": 2,
   "metadata": {},
   "outputs": [],
   "source": [
    "import numpy as np\n",
    "import matplotlib.pyplot as plt\n",
    "import statsmodels as stat\n",
    "import pandas as pd\n",
    "from pandas.plotting import scatter_matrix\n",
    "import scipy.stats as stats\n",
    "import statsmodels.api as sm\n",
    "import pandas.plotting as pd_plot\n",
    "import scipy as sc\n",
    "from pandas import DataFrame\n",
    "import statsmodels.api as sm"
   ]
  },
  {
   "cell_type": "code",
   "execution_count": 3,
   "metadata": {
    "pycharm": {
     "name": "#%%\n"
    }
   },
   "outputs": [],
   "source": [
    "def mean_CI_data(data, confidence=0.95):\n",
    "    a = 1.0 * np.array(data)\n",
    "    n = len(a)\n",
    "    m, std = np.mean(a), np.std(a)\n",
    "    #h = se * sc.stats.t.ppf((1 + confidence) / 2., n - 1)\n",
    "    h = std * 1.96 / np.sqrt(n-1)\n",
    "    return m, m - h, m + h"
   ]
  },
  {
   "cell_type": "markdown",
   "metadata": {},
   "source": [
    "## Exercise 5.3\n",
    "We consider data on outdoor running world records for men and women for distances\n",
    "between 1 km and marathon (42.195 km). The data file worldrecords.dta contain\n",
    "the world records (as of February 19, 2013) for men and women on 13 different distances\n",
    "(1=males, 2=females). From 1 km to 10 km the records are set on a running track, while\n",
    "longer records on the longer distances are set on roads. \n",
    "\n",
    "## Part A\n",
    "### A.1) Fit a linear regression model of time on distance, separately for men and women. Discuss the validity of the model assumptions."
   ]
  },
  {
   "cell_type": "code",
   "execution_count": 8,
   "metadata": {},
   "outputs": [],
   "source": [
    "%matplotlib inline\n",
    "\n",
    "run_data = pd.read_csv('data/worldrecords.csv', sep=';', decimal=\",\")\n",
    "\n",
    "run_data_male = run_data.loc[danfund['sex'] == 'Men']\n",
    "run_data_female = run_data.loc[danfund['sex'] == 'Women']\n",
    "\n",
    "plt.rcParams.update({'font.size': 13})\n",
    "fig, ax = plt.subplots(1, 2)\n",
    "\n",
    "ax[0].scatter(danfund_male['height'], danfund_male['fvc'], color='C0', alpha=0.6, label='male')\n",
    "ax[0].plot(danfund_male['height'], model_male.predict(sm.add_constant(danfund_male['height'])), color='blue')\n",
    "ax[0].scatter(danfund_female['height'], danfund_female['fvc'], color='C1', alpha=0.6, label='female')\n",
    "ax[0].plot(danfund_female['height'], model_female.predict(sm.add_constant(danfund_female['height'])), color='red')\n",
    "ax[0].set_ylabel('FVC')\n",
    "ax[0].set_xlabel('height [cm]')\n",
    "ax[0].legend()\n",
    "\n",
    "ax[1].scatter(danfund_male['height'], Residuals_male, color='C0', alpha=0.6, label='male')\n",
    "ax[1].plot(danfund_male['height'], model_male_res.predict(sm.add_constant(danfund_male['height'])), color='blue')\n",
    "ax[1].scatter(danfund_female['height'], Residuals_female, color='C1', alpha=0.6, label='female')\n",
    "ax[1].plot(danfund_female['height'], model_female_res.predict(sm.add_constant(danfund_female['height'])), color='red')\n",
    "ax[1].set_ylabel('Residuals')\n",
    "ax[1].set_xlabel('height [cm]')\n",
    "plt.tight_layout()\n",
    "plt.show()"
   ]
  },
  {
   "cell_type": "markdown",
   "metadata": {},
   "source": [
    "### A.b) Estimate and interpret the slope for men and women, respectively."
   ]
  },
  {
   "cell_type": "code",
   "execution_count": null,
   "metadata": {},
   "outputs": [],
   "source": []
  },
  {
   "cell_type": "markdown",
   "metadata": {},
   "source": [
    "### A.c) Examine if the absolute time difference between men and women is the same for all distances."
   ]
  },
  {
   "cell_type": "code",
   "execution_count": null,
   "metadata": {},
   "outputs": [],
   "source": []
  },
  {
   "cell_type": "markdown",
   "metadata": {},
   "source": [
    "### A.d) Predict the expected running time for a world record on 4 km for both men and women"
   ]
  },
  {
   "cell_type": "code",
   "execution_count": null,
   "metadata": {},
   "outputs": [],
   "source": []
  },
  {
   "cell_type": "markdown",
   "metadata": {},
   "source": [
    "## Part B\n",
    "### B.1) Fit a linear regression model of log-time on log-distance, separately for men and women. Discuss the validity of the model assumptions."
   ]
  },
  {
   "cell_type": "code",
   "execution_count": null,
   "metadata": {},
   "outputs": [],
   "source": []
  },
  {
   "cell_type": "markdown",
   "metadata": {},
   "source": [
    "### B.2) Examine if the relative time difference between men and women is the same for all distances (the hypothesis of no interaction between distance and sex in the model of logtime). \n",
    "Use the model of log-time on log-distance with no interaction between distance and sex. "
   ]
  },
  {
   "cell_type": "code",
   "execution_count": null,
   "metadata": {},
   "outputs": [],
   "source": []
  },
  {
   "cell_type": "markdown",
   "metadata": {},
   "source": [
    "## Part C"
   ]
  },
  {
   "cell_type": "markdown",
   "metadata": {},
   "source": [
    "### C.1) Predict the expected running time for a world record on 4 km for both men and women (you may need to use that log(4) = 1.386294). "
   ]
  },
  {
   "cell_type": "code",
   "execution_count": null,
   "metadata": {},
   "outputs": [],
   "source": []
  },
  {
   "cell_type": "markdown",
   "metadata": {},
   "source": [
    "### C.2)  Write an equation for the running times as a function of sex and distance. "
   ]
  },
  {
   "cell_type": "code",
   "execution_count": null,
   "metadata": {},
   "outputs": [],
   "source": []
  },
  {
   "cell_type": "markdown",
   "metadata": {},
   "source": [
    "### C.3) Quantify the difference between male and female running times."
   ]
  },
  {
   "cell_type": "code",
   "execution_count": null,
   "metadata": {},
   "outputs": [],
   "source": []
  },
  {
   "cell_type": "markdown",
   "metadata": {},
   "source": [
    "One parameter predicting the running time is the maximal oxygen consumption\n",
    "(VO2max), which in a random sample usually follows a normal distribution. In a random\n",
    "sample of 50 active men and 50 active women the VO2max was found to be an average\n",
    "of 45.2 (sd=5.1) for the men and 40.4 (sd=4.9) for women. One VO2max was missing\n",
    "among the men and 4 were missing among the women. "
   ]
  },
  {
   "cell_type": "code",
   "execution_count": null,
   "metadata": {},
   "outputs": [],
   "source": []
  },
  {
   "cell_type": "markdown",
   "metadata": {},
   "source": [
    "### C.4) Estimate the absolute mean difference in VO2max between men and women. Estimate without confidence interval the relative mean difference in VO2max between men and women. Do the data suggest the rate of missing data depends on sex? "
   ]
  },
  {
   "cell_type": "code",
   "execution_count": null,
   "metadata": {},
   "outputs": [],
   "source": []
  },
  {
   "cell_type": "markdown",
   "metadata": {},
   "source": [
    "### C.5) Discuss if the difference in running times between men and women can be explained by a difference in VO2max."
   ]
  },
  {
   "cell_type": "code",
   "execution_count": null,
   "metadata": {},
   "outputs": [],
   "source": []
  }
 ],
 "metadata": {
  "kernelspec": {
   "display_name": "Python 3",
   "language": "python",
   "name": "python3"
  },
  "language_info": {
   "codemirror_mode": {
    "name": "ipython",
    "version": 3
   },
   "file_extension": ".py",
   "mimetype": "text/x-python",
   "name": "python",
   "nbconvert_exporter": "python",
   "pygments_lexer": "ipython3",
   "version": "3.6.9"
  }
 },
 "nbformat": 4,
 "nbformat_minor": 1
}
