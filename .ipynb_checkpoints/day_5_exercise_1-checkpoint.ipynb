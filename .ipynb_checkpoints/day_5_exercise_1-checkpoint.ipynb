{
 "cells": [
  {
   "cell_type": "code",
   "execution_count": 3,
   "metadata": {
    "pycharm": {
     "name": "#%%\n"
    }
   },
   "outputs": [
    {
     "name": "stderr",
     "output_type": "stream",
     "text": [
      "In /home/liabar/.local/lib/python3.6/site-packages/matplotlib/mpl-data/stylelib/_classic_test.mplstyle: \n",
      "The text.latex.preview rcparam was deprecated in Matplotlib 3.3 and will be removed two minor releases later.\n",
      "In /home/liabar/.local/lib/python3.6/site-packages/matplotlib/mpl-data/stylelib/_classic_test.mplstyle: \n",
      "The mathtext.fallback_to_cm rcparam was deprecated in Matplotlib 3.3 and will be removed two minor releases later.\n",
      "In /home/liabar/.local/lib/python3.6/site-packages/matplotlib/mpl-data/stylelib/_classic_test.mplstyle: Support for setting the 'mathtext.fallback_to_cm' rcParam is deprecated since 3.3 and will be removed two minor releases later; use 'mathtext.fallback : 'cm' instead.\n",
      "In /home/liabar/.local/lib/python3.6/site-packages/matplotlib/mpl-data/stylelib/_classic_test.mplstyle: \n",
      "The validate_bool_maybe_none function was deprecated in Matplotlib 3.3 and will be removed two minor releases later.\n",
      "In /home/liabar/.local/lib/python3.6/site-packages/matplotlib/mpl-data/stylelib/_classic_test.mplstyle: \n",
      "The savefig.jpeg_quality rcparam was deprecated in Matplotlib 3.3 and will be removed two minor releases later.\n",
      "In /home/liabar/.local/lib/python3.6/site-packages/matplotlib/mpl-data/stylelib/_classic_test.mplstyle: \n",
      "The keymap.all_axes rcparam was deprecated in Matplotlib 3.3 and will be removed two minor releases later.\n",
      "In /home/liabar/.local/lib/python3.6/site-packages/matplotlib/mpl-data/stylelib/_classic_test.mplstyle: \n",
      "The animation.avconv_path rcparam was deprecated in Matplotlib 3.3 and will be removed two minor releases later.\n",
      "In /home/liabar/.local/lib/python3.6/site-packages/matplotlib/mpl-data/stylelib/_classic_test.mplstyle: \n",
      "The animation.avconv_args rcparam was deprecated in Matplotlib 3.3 and will be removed two minor releases later.\n"
     ]
    }
   ],
   "source": [
    "import numpy as np\n",
    "import matplotlib.pyplot as plt\n",
    "import statsmodels as stat\n",
    "import pandas as pd\n",
    "from pandas.plotting import scatter_matrix\n",
    "import scipy.stats as stats\n",
    "import statsmodels.api as sm\n",
    "#from day_1 import mean_CI_model, mean_CI_data, mean_PI_model, mean_PI_data\n",
    "import pandas.plotting as pd_plot\n",
    "import scipy as sc\n"
   ]
  },
  {
   "cell_type": "markdown",
   "metadata": {
    "pycharm": {
     "name": "#%% md\n"
    }
   },
   "source": [
    "## Exercise 5.1\n",
    "Consider the data on PEFR, height and, sex we looked at during today’s lecture,\n",
    "PEFR.dta. We will start by looking at the men only (i.e. discard the women) and mimic\n",
    "the analysis done for the women presented in the lectures.\n",
    "1. Make a scatter plot of PEFR against height with a fitted line.\n",
    "Comment on what you see.\n",
    " - We can see that the data is very scattered, but it seems to\n",
    " follow an increasing  PERF with height"
   ]
  },
  {
   "cell_type": "code",
   "execution_count": 4,
   "metadata": {
    "pycharm": {
     "name": "#%%\n"
    }
   },
   "outputs": [
    {
     "data": {
      "image/png": "[encoded data removed]",
      "text/plain": [
       "<Figure size 432x288 with 1 Axes>"
      ]
     },
     "metadata": {},
     "output_type": "display_data"
    }
   ],
   "source": [
    "PEFR = pd.read_csv('data/PEFR.csv', sep=',', na_values=\".\")\n",
    "PEFR_male = PEFR.loc[PEFR['sex'] == 'male']\n",
    "\n",
    "# linear regression fit\n",
    "slope, intercept, r_value, p_value, std_err = stats.linregress(PEFR_male['height'],PEFR_male['PEFR'])\n",
    "\n",
    "plt.rcParams.update({'font.size': 12})\n",
    "fig, ax = plt.subplots(1, 1)\n",
    "ax.scatter(PEFR_male['height'], PEFR_male['PEFR'])\n",
    "x = np.linspace(np.amin(PEFR_male['height']), np.amax(PEFR_male['height']))\n",
    "ax.plot(x, slope*x+intercept)\n",
    "ax.set_ylabel('PEFR')\n",
    "ax.set_xlabel('height')\n",
    "ax.grid()\n",
    "plt.show()\n"
   ]
  },
  {
   "cell_type": "markdown",
   "metadata": {
    "pycharm": {
     "name": "#%% md\n"
    }
   },
   "source": [
    "2. Fit the regression line of PEFR on height. What is the estimated slope, intercept and\n",
    "the standard deviation of the unexplained variation?"
   ]
  },
  {
   "cell_type": "code",
   "execution_count": 8,
   "metadata": {
    "pycharm": {
     "name": "#%%\n"
    }
   },
   "outputs": [
    {
     "name": "stdout",
     "output_type": "stream",
     "text": [
      "                            OLS Regression Results                            \n",
      "==============================================================================\n",
      "Dep. Variable:                   PEFR   R-squared:                       0.206\n",
      "Model:                            OLS   Adj. R-squared:                  0.191\n",
      "Method:                 Least Squares   F-statistic:                     14.25\n",
      "Date:                Wed, 07 Apr 2021   Prob (F-statistic):           0.000394\n",
      "Time:                        13:40:18   Log-Likelihood:                -303.30\n",
      "No. Observations:                  57   AIC:                             610.6\n",
      "Df Residuals:                      55   BIC:                             614.7\n",
      "Df Model:                           1                                         \n",
      "Covariance Type:            nonrobust                                         \n",
      "==============================================================================\n",
      "                 coef    std err          t      P>|t|      [0.025      0.975]\n",
      "------------------------------------------------------------------------------\n",
      "const       -140.3875    186.771     -0.752      0.455    -514.685     233.910\n",
      "height         3.9745      1.053      3.775      0.000       1.865       6.084\n",
      "==============================================================================\n",
      "Omnibus:                        0.234   Durbin-Watson:                   2.236\n",
      "Prob(Omnibus):                  0.889   Jarque-Bera (JB):                0.213\n",
      "Skew:                          -0.135   Prob(JB):                        0.899\n",
      "Kurtosis:                       2.869   Cond. No.                     4.96e+03\n",
      "==============================================================================\n",
      "\n",
      "Notes:\n",
      "[1] Standard Errors assume that the covariance matrix of the errors is correctly specified.\n",
      "[2] The condition number is large, 4.96e+03. This might indicate that there are\n",
      "strong multicollinearity or other numerical problems.\n"
     ]
    }
   ],
   "source": [
    "X = sm.add_constant(PEFR_male['height']) \n",
    "Y = PEFR_male['PEFR']\n",
    "model_male = sm.OLS(Y, X).fit()\n",
    "print(model_male.summary())\n"
   ]
  },
  {
   "cell_type": "code",
   "execution_count": 1,
   "metadata": {},
   "outputs": [
    {
     "ename": "NameError",
     "evalue": "name 'PEFR_male' is not defined",
     "output_type": "error",
     "traceback": [
      "\u001b[0;31m---------------------------------------------------------------------------\u001b[0m",
      "\u001b[0;31mNameError\u001b[0m                                 Traceback (most recent call last)",
      "\u001b[0;32m<ipython-input-1-d67c228c8f97>\u001b[0m in \u001b[0;36m<module>\u001b[0;34m()\u001b[0m\n\u001b[0;32m----> 1\u001b[0;31m \u001b[0mresiduals\u001b[0m \u001b[0;34m=\u001b[0m \u001b[0mPEFR_male\u001b[0m\u001b[0;34m[\u001b[0m\u001b[0;34m'PEFR'\u001b[0m\u001b[0;34m]\u001b[0m \u001b[0;34m-\u001b[0m \u001b[0mmodel_male\u001b[0m\u001b[0;34m.\u001b[0m\u001b[0mpredict\u001b[0m\u001b[0;34m(\u001b[0m\u001b[0mX\u001b[0m\u001b[0;34m)\u001b[0m\u001b[0;34m\u001b[0m\u001b[0;34m\u001b[0m\u001b[0m\n\u001b[0m",
      "\u001b[0;31mNameError\u001b[0m: name 'PEFR_male' is not defined"
     ]
    }
   ],
   "source": [
    "residuals = PEFR_male['PEFR'] - model_male.predict(X)"
   ]
  },
  {
   "cell_type": "markdown",
   "metadata": {},
   "source": [
    "3. Generate a new variable height170=height-170 and fit the regression line of PEFR\n",
    "on height170. What is the estimated slope, intercept and the standard deviation of the\n",
    "unexplained variation?\n",
    "Compare with what you found in 2.\n",
    "What is the interpretation of the intercept?\n",
    "Is the slope statistically significant different from zero?\n",
    "\n"
   ]
  },
  {
   "cell_type": "markdown",
   "metadata": {},
   "source": [
    "### 5.1.4) Generate the predicted values and the residuals under this model. Make a plot of the residuals against the predicted values and the residuals against height170. Comment on what you see."
   ]
  },
  {
   "cell_type": "code",
   "execution_count": null,
   "metadata": {},
   "outputs": [],
   "source": []
  },
  {
   "cell_type": "markdown",
   "metadata": {},
   "source": [
    "### 5.1.5) Make a QQ-plot of the residuals. Comment on what you see. We will now look at both sexes."
   ]
  },
  {
   "cell_type": "code",
   "execution_count": null,
   "metadata": {},
   "outputs": [],
   "source": []
  },
  {
   "cell_type": "markdown",
   "metadata": {},
   "source": [
    "### 5.1.6) Run the commands regress PEFR b1.sex##c.height170 regress PEFR b2.sex##c.height170 and compare with model 2 in the lecture notes."
   ]
  },
  {
   "cell_type": "code",
   "execution_count": null,
   "metadata": {},
   "outputs": [],
   "source": []
  },
  {
   "cell_type": "markdown",
   "metadata": {},
   "source": [
    "### 5.1.7) Run the commands: regress PEFR b1.sex c.height170 lincom _cons + 2.sex and compare with model 3 in the lecture notes."
   ]
  },
  {
   "cell_type": "code",
   "execution_count": null,
   "metadata": {},
   "outputs": [],
   "source": []
  }
 ],
 "metadata": {
  "kernelspec": {
   "display_name": "Python 3",
   "language": "python",
   "name": "python3"
  },
  "language_info": {
   "codemirror_mode": {
    "name": "ipython",
    "version": 3
   },
   "file_extension": ".py",
   "mimetype": "text/x-python",
   "name": "python",
   "nbconvert_exporter": "python",
   "pygments_lexer": "ipython3",
   "version": "3.6.9"
  }
 },
 "nbformat": 4,
 "nbformat_minor": 1
}
