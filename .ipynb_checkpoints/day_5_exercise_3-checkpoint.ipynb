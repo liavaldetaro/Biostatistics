{
 "cells": [
  {
   "cell_type": "code",
   "execution_count": 5,
   "metadata": {},
   "outputs": [],
   "source": [
    "import numpy as np\n",
    "import matplotlib.pyplot as plt\n",
    "import statsmodels as stat\n",
    "import pandas as pd\n",
    "from pandas.plotting import scatter_matrix\n",
    "import scipy.stats as stats\n",
    "import statsmodels.api as sm\n",
    "import pandas.plotting as pd_plot\n",
    "import scipy as sc\n",
    "from pandas import DataFrame\n",
    "import statsmodels.api as sm"
   ]
  },
  {
   "cell_type": "code",
   "execution_count": 6,
   "metadata": {
    "pycharm": {
     "name": "#%%\n"
    }
   },
   "outputs": [],
   "source": [
    "def mean_CI_data(data, confidence=0.95):\n",
    "    a = 1.0 * np.array(data)\n",
    "    n = len(a)\n",
    "    m, std = np.mean(a), np.std(a)\n",
    "    #h = se * sc.stats.t.ppf((1 + confidence) / 2., n - 1)\n",
    "    h = std * 1.96 / np.sqrt(n-1)\n",
    "    return m, m - h, m + h"
   ]
  },
  {
   "cell_type": "markdown",
   "metadata": {},
   "source": [
    "## Exercise 5.3\n",
    "We consider data on outdoor running world records for men and women for distances\n",
    "between 1 km and marathon (42.195 km). The data file worldrecords.dta contain\n",
    "the world records (as of February 19, 2013) for men and women on 13 different distances\n",
    "(1=males, 2=females). From 1 km to 10 km the records are set on a running track, while\n",
    "longer records on the longer distances are set on roads. \n",
    "\n",
    "## Part A\n",
    "### A.1) Fit a linear regression model of time on distance, separately for men and women. Discuss the validity of the model assumptions.\n",
    "\n",
    "\n",
    "### A.b) Estimate and interpret the slope for men and women, respectively.\n",
    "### A.b) Examine if the absolute time difference between men and women is the same for all distances.\n",
    "### A.b) Predict the expected running time for a world record on 4 km for both men and women"
   ]
  }
 ],
 "metadata": {
  "kernelspec": {
   "display_name": "Python 3",
   "language": "python",
   "name": "python3"
  },
  "language_info": {
   "codemirror_mode": {
    "name": "ipython",
    "version": 3
   },
   "file_extension": ".py",
   "mimetype": "text/x-python",
   "name": "python",
   "nbconvert_exporter": "python",
   "pygments_lexer": "ipython3",
   "version": "3.6.9"
  }
 },
 "nbformat": 4,
 "nbformat_minor": 1
}
