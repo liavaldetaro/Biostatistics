{
 "cells": [
  {
   "cell_type": "code",
   "execution_count": 1,
   "metadata": {},
   "outputs": [
    {
     "ename": "ModuleNotFoundError",
     "evalue": "No module named 'statsmodels'",
     "output_type": "error",
     "traceback": [
      "\u001b[0;31m---------------------------------------------------------------------------\u001b[0m",
      "\u001b[0;31mModuleNotFoundError\u001b[0m                       Traceback (most recent call last)",
      "\u001b[0;32m<ipython-input-1-a9559b4c1733>\u001b[0m in \u001b[0;36m<module>\u001b[0;34m()\u001b[0m\n\u001b[1;32m      1\u001b[0m \u001b[0;32mimport\u001b[0m \u001b[0mnumpy\u001b[0m \u001b[0;32mas\u001b[0m \u001b[0mnp\u001b[0m\u001b[0;34m\u001b[0m\u001b[0;34m\u001b[0m\u001b[0m\n\u001b[1;32m      2\u001b[0m \u001b[0;32mimport\u001b[0m \u001b[0mmatplotlib\u001b[0m\u001b[0;34m.\u001b[0m\u001b[0mpyplot\u001b[0m \u001b[0;32mas\u001b[0m \u001b[0mplt\u001b[0m\u001b[0;34m\u001b[0m\u001b[0;34m\u001b[0m\u001b[0m\n\u001b[0;32m----> 3\u001b[0;31m \u001b[0;32mimport\u001b[0m \u001b[0mstatsmodels\u001b[0m \u001b[0;32mas\u001b[0m \u001b[0mstat\u001b[0m\u001b[0;34m\u001b[0m\u001b[0;34m\u001b[0m\u001b[0m\n\u001b[0m\u001b[1;32m      4\u001b[0m \u001b[0;32mimport\u001b[0m \u001b[0mseaborn\u001b[0m \u001b[0;32mas\u001b[0m \u001b[0msea\u001b[0m\u001b[0;34m\u001b[0m\u001b[0;34m\u001b[0m\u001b[0m\n\u001b[1;32m      5\u001b[0m \u001b[0;32mimport\u001b[0m \u001b[0mpandas\u001b[0m \u001b[0;32mas\u001b[0m \u001b[0mpd\u001b[0m\u001b[0;34m\u001b[0m\u001b[0;34m\u001b[0m\u001b[0m\n",
      "\u001b[0;31mModuleNotFoundError\u001b[0m: No module named 'statsmodels'"
     ]
    }
   ],
   "source": [
    "import numpy as np\n",
    "import matplotlib.pyplot as plt\n",
    "import statsmodels as stat\n",
    "import seaborn as sea\n",
    "import pandas as pd\n",
    "from pandas.plotting import scatter_matrix\n",
    "import scipy.stats as stats\n",
    "import statsmodels.api as sm\n",
    "import pandas.plotting as pd_plot\n",
    "import scipy as sc\n",
    "from pandas import DataFrame\n",
    "import statsmodels.api as sm"
   ]
  },
  {
   "cell_type": "code",
   "execution_count": null,
   "metadata": {
    "pycharm": {
     "name": "#%%\n"
    }
   },
   "outputs": [],
   "source": [
    "def mean_CI_data(data, confidence=0.95):\n",
    "    a = 1.0 * np.array(data)\n",
    "    n = len(a)\n",
    "    m, std = np.mean(a), np.std(a)\n",
    "    #h = se * sc.stats.t.ppf((1 + confidence) / 2., n - 1)\n",
    "    h = std * 1.96 / np.sqrt(n-1)\n",
    "    return m, m - h, m + h"
   ]
  },
  {
   "cell_type": "markdown",
   "metadata": {},
   "source": [
    "## Exercise 5.2\n",
    "The data consist of a random sample of 480 patients from the Danish Study of Functional\n",
    "Disorders (DanFunD). DanFunD represents the first major longitudinal population-based\n",
    "study in the field of what is commonly referred to as functional disorders or medically\n",
    "unexplained illnesses. However, data will likewise be used to study other conditions,\n",
    "such as cardiovascular disease, diabetes, respiratory diseases, allergy and asthma.\n",
    "In this exercise we will restrict our selves to looking at the difference in forced vital\n",
    "capacity (FVC) between men and women.\n",
    "\n",
    "#### 1. Estimate the unadjusted (crude) difference in FVC between men and women."
   ]
  },
  {
   "cell_type": "code",
   "execution_count": null,
   "metadata": {
    "pycharm": {
     "name": "#%%\n"
    }
   },
   "outputs": [],
   "source": [
    "%matplotlib\n",
    "\n",
    "danfund = pd.read_csv('data/danfund.csv', sep=';', decimal=\",\")\n",
    "#print(danfund)\n",
    "\n",
    "danfund_male = danfund.loc[danfund['sex'] == 1]\n",
    "danfund_female = danfund.loc[danfund['sex'] == 0]\n",
    "\n",
    "print(np.mean(danfund_male['fvc']))\n",
    "print(np.mean(danfund_female['fvc']))\n",
    "\n",
    "\n",
    "# plotting the histogram\n",
    "plt.rcParams.update({'font.size': 10})\n",
    "fig, ax = plt.subplots(1, 1)\n",
    "\n",
    "mu, std = stats.norm.fit(danfund_male['fvc'])\n",
    "x = np.linspace(0,10)\n",
    "pdf_data = stats.norm.pdf(x, mu, std)\n",
    "ax.plot(x, pdf_data, color='blue', label='Male')\n",
    "ax.hist(danfund_male['fvc'], bins=20, density='True', color='blue', alpha=0.7)\n",
    "\n",
    "mu, std = stats.norm.fit(danfund_female['fvc'])\n",
    "pdf_data = stats.norm.pdf(x, mu, std)\n",
    "ax.plot(x, pdf_data, color='orange', label='Female')\n",
    "ax.hist(danfund_female['fvc'], bins=20, density='True', color='orange', alpha=0.7)\n",
    "\n",
    "ax.set_xlabel('fvc')\n",
    "ax.set_ylabel('Density')\n",
    "ax.legend()\n",
    "ax.grid()\n",
    "plt.show()\n"
   ]
  },
  {
   "cell_type": "markdown",
   "metadata": {
    "pycharm": {
     "name": "#%% md\n"
    }
   },
   "source": [
    "We can see a large difference in the standard deviations"
   ]
  },
  {
   "cell_type": "code",
   "execution_count": 112,
   "metadata": {
    "pycharm": {
     "name": "#%%\n"
    }
   },
   "outputs": [
    {
     "name": "stdout",
     "output_type": "stream",
     "text": [
      "Male group: std = 0.6469142466242552\n",
      "Female group: std = 0.9025388128724291\n",
      "F_obs = 0.5137616181498876\n",
      "p-value = 6.280750320874374e-08\n"
     ]
    }
   ],
   "source": [
    "# First, we need to test the hypothesis std_male = std_female\n",
    "# F_obs = [largest observed std/ smallest observed std]^2\n",
    "std_male = np.std(danfund_female['fvc'])\n",
    "std_female = np.std(danfund_male['fvc'])\n",
    "print('Male group: std =', std_male)\n",
    "print('Female group: std =', std_female)\n",
    "\n",
    "if std_male <= std_female:\n",
    "    F_obs = (std_male/std_female)**2\n",
    "else:\n",
    "    F_obs = (std_female/std_male)**2\n",
    "\n",
    "print('F_obs =', F_obs)\n",
    "p_value = stats.f.cdf(F_obs, len(danfund_female['fvc']) - 1, len(danfund_female['fvc']) - 1)\n",
    "print('p-value =', p_value)"
   ]
  },
  {
   "cell_type": "markdown",
   "metadata": {
    "pycharm": {
     "name": "#%% md\n"
    }
   },
   "source": [
    "Check that the function is correct now. The small p-value means that we can't accept the equal std\n",
    "hypothesis. Therefore, we do an unequal t-test"
   ]
  },
  {
   "cell_type": "code",
   "execution_count": 113,
   "metadata": {
    "pycharm": {
     "name": "#%%\n"
    }
   },
   "outputs": [
    {
     "name": "stdout",
     "output_type": "stream",
     "text": [
      "t-value =  -18.683009999073132 . p-value = 3.240780747267251e-56\n",
      "mean fvc (women) =  3.419108527131783 , 95% CI =  (3.340015859223953, 3.4982011950396132)\n",
      "mean fvc (men) =  4.781081081081082 , 95% CI =  (4.66208687331186, 4.900075288850304)\n",
      "mean diff =  1.3619725539492986 , 95% CI =  (1.2186522137788929, 1.5052928941197052)\n"
     ]
    }
   ],
   "source": [
    "#danfund_female['diff'] = danfund_male['fvc'] - danfund_female['fvc']\n",
    "t_value, p_value = stats.ttest_ind(danfund_female['fvc'],\n",
    "                                   danfund_male['fvc'], equal_var=False)\n",
    "print('t-value = ', t_value, '. p-value =', p_value)\n",
    "\n",
    "ci_f = mean_CI_data(danfund_female['fvc'])\n",
    "print('mean fvc (women) = ', ci_f[0], ', 95% CI = ', ci_f[1:])\n",
    "ci_m = mean_CI_data(danfund_male['fvc'])\n",
    "print('mean fvc (men) = ', ci_m[0], ', 95% CI = ', ci_m[1:])\n",
    "\n",
    "\n",
    "import statsmodels.stats.api as sms\n",
    "\n",
    "cm = sms.CompareMeans(sms.DescrStatsW(danfund_male['fvc']),\n",
    "                      sms.DescrStatsW(danfund_female['fvc']))\n",
    "ci = cm.tconfint_diff(usevar='unequal')\n",
    "\n",
    "print('mean diff = ', ci_m[0] - ci_f[0], ', 95% CI = ', ci)"
   ]
  },
  {
   "cell_type": "markdown",
   "metadata": {
    "pycharm": {
     "name": "#%% md\n"
    }
   },
   "source": [
    "The mean difference found was 1.36, with 95% CI (1.22, 1.50), with\n",
    "p-value < 0.0001, indicating that the hypothesis of equal means is false."
   ]
  },
  {
   "cell_type": "markdown",
   "metadata": {
    "pycharm": {
     "name": "#%% md\n"
    }
   },
   "source": [
    "#### 2. For both men and women: Establish a linear regression of FVC on height and interpret the parameters in the model."
   ]
  },
  {
   "cell_type": "code",
   "execution_count": 115,
   "metadata": {
    "pycharm": {
     "name": "#%%md\n"
    }
   },
   "outputs": [
    {
     "data": {
      "text/plain": [
       "<function matplotlib.pyplot.show(*args, **kw)>"
      ]
     },
     "execution_count": 115,
     "metadata": {},
     "output_type": "execute_result"
    }
   ],
   "source": [
    "b_1m, b_0m, r_value, p_value, std_err_m = \\\n",
    "    stats.linregress(danfund_male['height'],danfund_male['fvc'])\n",
    "\n",
    "plt.rcParams.update({'font.size': 10})\n",
    "fig, ax = plt.subplots(1, 2)\n",
    "ax[0].scatter(danfund_male['height'],danfund_male['fvc'])\n",
    "x = np.linspace(np.amin(danfund_male['height']), np.amax(danfund_male['height']))\n",
    "ax[0].plot(x, b_1m * x + b_0m, color='red')\n",
    "ax[0].set_title('Line fit')\n",
    "ax[1].scatter(danfund_male['height'],\n",
    "              danfund_male['height'] * b_1m + b_0m - danfund_male['fvc'])\n",
    "ax[1].axhline(y=0, color='red')\n",
    "ax[1].set_title('Residuals')\n",
    "plt.show\n",
    "\n",
    "# qq-plot\n",
    "plt.rcParams.update({'font.size': 10})\n",
    "sm.qqplot(danfund_male['fvc'], fit=True, line='45')\n",
    "plt.title('Male group')\n",
    "plt.grid()\n",
    "plt.show()\n",
    "\n",
    "b_1f, b_0f, r_value, p_value, std_err_f = \\\n",
    "    stats.linregress(danfund_female['height'],danfund_female['fvc'])\n",
    "\n",
    "plt.rcParams.update({'font.size': 10})\n",
    "sm.qqplot(danfund_female['fvc'], fit=True, line='45')\n",
    "plt.title('Female group')\n",
    "plt.grid()\n",
    "plt.show()\n",
    "\n",
    "plt.rcParams.update({'font.size': 10})\n",
    "fig, ax = plt.subplots(1, 2)\n",
    "ax[0].scatter(danfund_female['height'],danfund_female['fvc'])\n",
    "x = np.linspace(np.amin(danfund_female['height']), np.amax(danfund_female['height']))\n",
    "ax[0].plot(x, b_1f * x + b_0f, color='red')\n",
    "ax[0].set_title('Line fit')\n",
    "ax[1].scatter(danfund_female['height'],\n",
    "              danfund_female['height'] * b_1f + b_0f - danfund_female['fvc'])\n",
    "ax[1].axhline(y=0, color='red')\n",
    "ax[1].set_title('Residuals')\n",
    "plt.show"
   ]
  },
  {
   "cell_type": "code",
   "execution_count": 93,
   "metadata": {
    "pycharm": {
     "name": "#%%\n"
    }
   },
   "outputs": [
    {
     "name": "stdout",
     "output_type": "stream",
     "text": [
      "For the male group, we found an intercept of -7.150857131762773 \n",
      "slope of 0.0666582017205357 \n",
      "and residual std of:  (1.240249144626301e-15, -0.10179662475468641, 0.10179662475468888)\n"
     ]
    }
   ],
   "source": [
    "residual_male = danfund_male['height'] * b_1m + b_0m - danfund_male['fvc']\n",
    "print('For the male group, we found an intercept of', b_0m,\n",
    "      '\\nslope of', b_1m,\n",
    "      '\\nand residual std of: ',\n",
    "      mean_CI_data(residual_male))\n",
    "\n",
    "residual_female = danfund_female['height'] * b_1f + b_0f - danfund_female['fvc']"
   ]
  },
  {
   "cell_type": "markdown",
   "metadata": {
    "pycharm": {
     "name": "#%% md\n"
    }
   },
   "source": [
    "For the male group, we found\n",
    "\n",
    "For men the intercept, slope and residual standard\n",
    "deviation are -7.15 (95% CI [-9.77 ; -4.53], 0.07 (95% CI [0.05 ; 0.08] and 0.78 (95% CI\n",
    "[0.71 ; 0.86])\n",
    "\n"
   ]
  }
 ],
 "metadata": {
  "kernelspec": {
   "display_name": "Python 3",
   "language": "python",
   "name": "python3"
  },
  "language_info": {
   "codemirror_mode": {
    "name": "ipython",
    "version": 3
   },
   "file_extension": ".py",
   "mimetype": "text/x-python",
   "name": "python",
   "nbconvert_exporter": "python",
   "pygments_lexer": "ipython3",
   "version": "3.6.9"
  }
 },
 "nbformat": 4,
 "nbformat_minor": 1
}
