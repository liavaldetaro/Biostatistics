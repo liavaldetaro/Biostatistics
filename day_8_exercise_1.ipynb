{
 "cells": [
  {
   "cell_type": "code",
   "execution_count": 413,
   "metadata": {},
   "outputs": [],
   "source": [
    "import warnings\n",
    "warnings.filterwarnings(\"ignore\")"
   ]
  },
  {
   "cell_type": "code",
   "execution_count": 414,
   "metadata": {},
   "outputs": [],
   "source": [
    "import numpy as np\n",
    "import matplotlib.pyplot as plt\n",
    "import statsmodels as stat\n",
    "import pandas as pd\n",
    "from pandas.plotting import scatter_matrix\n",
    "import scipy.stats as stats\n",
    "import statsmodels.api as sm\n",
    "import pandas.plotting as pd_plot\n",
    "import scipy as sc\n",
    "from pandas import DataFrame\n",
    "import statsmodels.api as sm\n",
    "from bioinfokit.analys import stat\n",
    "import seaborn as sns\n"
   ]
  },
  {
   "cell_type": "code",
   "execution_count": 415,
   "metadata": {},
   "outputs": [],
   "source": [
    "# modyfied equations from https://thequackdaddy.github.io/statsmodels.github.io/0.9.0/_modules/statsmodels/duration/survfunc.html\n",
    "from scipy.stats import norm\n",
    "\n",
    "def time_estimate(self, p):\n",
    "\n",
    "    ii = np.flatnonzero(self.surv_times < p)\n",
    "    \n",
    "    if len(ii) == 0:\n",
    "        return np.nan\n",
    "\n",
    "    return self.surv_prob[len(ii)]\n",
    "\n",
    "def time_estimate_ci(self, ptime, alpha=0.05, method='cloglog'):\n",
    "        \n",
    "        p  = time_estimate(self, ptime)\n",
    "        p = 1 - p \n",
    "        tr = norm.ppf(1 - alpha / 2)\n",
    "\n",
    "        method = method.lower()\n",
    "        if method == \"cloglog\":\n",
    "            g = lambda x: np.log(-np.log(x))\n",
    "            gprime = lambda x: -1 / (x * np.log(x))\n",
    "        elif method == \"linear\":\n",
    "            g = lambda x: x\n",
    "            gprime = lambda x: 1\n",
    "        elif method == \"log\":\n",
    "            g = lambda x: np.log(x)\n",
    "            gprime = lambda x: 1 / x\n",
    "        elif method == \"logit\":\n",
    "            g = lambda x: np.log(x / (1 - x))\n",
    "            gprime = lambda x: 1 / (x * (1 - x))\n",
    "        elif method == \"asinsqrt\":\n",
    "            g = lambda x: np.arcsin(np.sqrt(x))\n",
    "            gprime = lambda x: 1 / (2 * np.sqrt(x) * np.sqrt(1 - x))\n",
    "        else:\n",
    "            raise ValueError(\"unknown method\")\n",
    "\n",
    "        r = g(self.surv_prob) - g(1 - p)\n",
    "        r /= (gprime(self.surv_prob) * self.surv_prob_se)\n",
    "\n",
    "        ii = np.flatnonzero(np.abs(r) <= tr)\n",
    "        if len(ii) == 0:\n",
    "            return np.nan, np.nan\n",
    "\n",
    "        lb = self.surv_times[ii[0]]\n",
    "\n",
    "        if ii[-1] == len(self.surv_times) - 1:\n",
    "            ub = np.inf\n",
    "        else:\n",
    "            ub = self.surv_times[ii[-1] + 1]\n",
    "\n",
    "        lb_time = time_estimate(self, lb)\n",
    "        ub_time = time_estimate(self, ub)\n",
    "\n",
    "        return lb_time, ub_time\n"
   ]
  },
  {
   "cell_type": "markdown",
   "metadata": {},
   "source": [
    "## Exercise 8.1\n",
    "\n",
    "The file meldates.dta contains the data on survival with malignant melanoma from the lecture\n",
    "day 8. Below we will go through the analysis of these data in Stata. \n",
    "\n",
    "First we setup the data as survival data in Stata using time since operation (in years) as the time\n",
    "scale. \n",
    "Or first we can calculate the time since operation\n",
    "generate survtime=(enddate-startdat)/365.25\n",
    "stset survtime, failure(status==1)\n",
    "After this we can estimate the survival function and the cumulative mortality proportion by the\n",
    "Kaplan-Meier method: \n",
    "\n",
    "\n",
    "#### 1. Look at the graph: What is the risk of dying within 7 years after the operation? Use the command sts list, at(0 7) fail to get the precise value.  Look at the graph: The 25-percentile of the time to death? Use the command stci, p(25) to get the precise value. We will now compare the mortality among men and women.\n",
    "\n",
    "#### 2. Plot the survival function for men and women separately. Find the 25-percentile of the time to death for men and women. Compare survival for men and women using the log-rank test. \n"
   ]
  },
  {
   "cell_type": "code",
   "execution_count": 416,
   "metadata": {},
   "outputs": [],
   "source": [
    "meldates = pd.read_csv('data/meldates.csv', sep=',', decimal=\".\")"
   ]
  },
  {
   "cell_type": "code",
   "execution_count": 454,
   "metadata": {},
   "outputs": [],
   "source": [
    "# calculating the survival in years\n",
    "\n",
    "from datetime import date, datetime\n",
    "\n",
    "months = ['jan', 'feb', 'mar', 'apr', 'may', 'jun', 'jul', 'aug', 'sep', 'oct', 'nov', 'dec']\n",
    "\n",
    "list_diff = []\n",
    "for i in range(0, len(meldates)):\n",
    "    date_diff = (datetime(np.int(meldates['enddate'][i][5:]), \n",
    "                                  months.index(meldates['enddate'][i][2:5]) + 1, \n",
    "                                  np.int(meldates['enddate'][i][0:2])) - \n",
    "                 datetime(np.int(meldates['startdate'][i][5:]), \n",
    "                                  months.index(meldates['startdate'][i][2:5]) + 1, \n",
    "                                  np.int(meldates['startdate'][i][0:2])))\n",
    "    list_diff.append(date_diff.days/365.25)\n",
    "    \n",
    "meldates['surv_yrs'] = list_diff\n",
    "meldates['bin_status'] = 1\n",
    "meldates['bin_status'][meldates['status'] == 'censored'] = 0\n"
   ]
  },
  {
   "cell_type": "code",
   "execution_count": 455,
   "metadata": {},
   "outputs": [
    {
     "data": {
      "text/html": [
       "<div>\n",
       "<style scoped>\n",
       "    .dataframe tbody tr th:only-of-type {\n",
       "        vertical-align: middle;\n",
       "    }\n",
       "\n",
       "    .dataframe tbody tr th {\n",
       "        vertical-align: top;\n",
       "    }\n",
       "\n",
       "    .dataframe thead th {\n",
       "        text-align: right;\n",
       "    }\n",
       "</style>\n",
       "<table border=\"1\" class=\"dataframe\">\n",
       "  <thead>\n",
       "    <tr style=\"text-align: right;\">\n",
       "      <th></th>\n",
       "      <th>Surv prob</th>\n",
       "      <th>Surv prob SE</th>\n",
       "      <th>num at risk</th>\n",
       "      <th>num events</th>\n",
       "    </tr>\n",
       "    <tr>\n",
       "      <th>Time</th>\n",
       "      <th></th>\n",
       "      <th></th>\n",
       "      <th></th>\n",
       "      <th></th>\n",
       "    </tr>\n",
       "  </thead>\n",
       "  <tbody>\n",
       "    <tr>\n",
       "      <th>0.763860</th>\n",
       "      <td>0.991935</td>\n",
       "      <td>0.008032</td>\n",
       "      <td>124</td>\n",
       "      <td>1.0</td>\n",
       "    </tr>\n",
       "    <tr>\n",
       "      <th>0.807666</th>\n",
       "      <td>0.983871</td>\n",
       "      <td>0.011313</td>\n",
       "      <td>123</td>\n",
       "      <td>1.0</td>\n",
       "    </tr>\n",
       "    <tr>\n",
       "      <th>1.056810</th>\n",
       "      <td>0.975740</td>\n",
       "      <td>0.013836</td>\n",
       "      <td>121</td>\n",
       "      <td>1.0</td>\n",
       "    </tr>\n",
       "    <tr>\n",
       "      <th>1.284052</th>\n",
       "      <td>0.967609</td>\n",
       "      <td>0.015932</td>\n",
       "      <td>120</td>\n",
       "      <td>1.0</td>\n",
       "    </tr>\n",
       "    <tr>\n",
       "      <th>1.826146</th>\n",
       "      <td>0.959477</td>\n",
       "      <td>0.017752</td>\n",
       "      <td>119</td>\n",
       "      <td>1.0</td>\n",
       "    </tr>\n",
       "  </tbody>\n",
       "</table>\n",
       "</div>"
      ],
      "text/plain": [
       "          Surv prob  Surv prob SE  num at risk  num events\n",
       "Time                                                      \n",
       "0.763860   0.991935      0.008032          124         1.0\n",
       "0.807666   0.983871      0.011313          123         1.0\n",
       "1.056810   0.975740      0.013836          121         1.0\n",
       "1.284052   0.967609      0.015932          120         1.0\n",
       "1.826146   0.959477      0.017752          119         1.0"
      ]
     },
     "execution_count": 455,
     "metadata": {},
     "output_type": "execute_result"
    }
   ],
   "source": [
    "meldates_f = meldates.loc[meldates.sex == \"female\", :]\n",
    "sfem = sm.SurvfuncRight(meldates_f['surv_yrs'], meldates_f['bin_status'])\n",
    "sfem.summary().head()"
   ]
  },
  {
   "cell_type": "code",
   "execution_count": 456,
   "metadata": {},
   "outputs": [
    {
     "data": {
      "text/html": [
       "<div>\n",
       "<style scoped>\n",
       "    .dataframe tbody tr th:only-of-type {\n",
       "        vertical-align: middle;\n",
       "    }\n",
       "\n",
       "    .dataframe tbody tr th {\n",
       "        vertical-align: top;\n",
       "    }\n",
       "\n",
       "    .dataframe thead th {\n",
       "        text-align: right;\n",
       "    }\n",
       "</style>\n",
       "<table border=\"1\" class=\"dataframe\">\n",
       "  <thead>\n",
       "    <tr style=\"text-align: right;\">\n",
       "      <th></th>\n",
       "      <th>Surv prob</th>\n",
       "      <th>Surv prob SE</th>\n",
       "      <th>num at risk</th>\n",
       "      <th>num events</th>\n",
       "    </tr>\n",
       "    <tr>\n",
       "      <th>Time</th>\n",
       "      <th></th>\n",
       "      <th></th>\n",
       "      <th></th>\n",
       "      <th></th>\n",
       "    </tr>\n",
       "  </thead>\n",
       "  <tbody>\n",
       "    <tr>\n",
       "      <th>0.506502</th>\n",
       "      <td>0.986842</td>\n",
       "      <td>0.013071</td>\n",
       "      <td>76</td>\n",
       "      <td>1.0</td>\n",
       "    </tr>\n",
       "    <tr>\n",
       "      <th>0.558522</th>\n",
       "      <td>0.973684</td>\n",
       "      <td>0.018362</td>\n",
       "      <td>75</td>\n",
       "      <td>1.0</td>\n",
       "    </tr>\n",
       "    <tr>\n",
       "      <th>0.574949</th>\n",
       "      <td>0.960526</td>\n",
       "      <td>0.022336</td>\n",
       "      <td>74</td>\n",
       "      <td>1.0</td>\n",
       "    </tr>\n",
       "    <tr>\n",
       "      <th>0.635181</th>\n",
       "      <td>0.947368</td>\n",
       "      <td>0.025614</td>\n",
       "      <td>73</td>\n",
       "      <td>1.0</td>\n",
       "    </tr>\n",
       "    <tr>\n",
       "      <th>1.166324</th>\n",
       "      <td>0.934211</td>\n",
       "      <td>0.028438</td>\n",
       "      <td>72</td>\n",
       "      <td>1.0</td>\n",
       "    </tr>\n",
       "  </tbody>\n",
       "</table>\n",
       "</div>"
      ],
      "text/plain": [
       "          Surv prob  Surv prob SE  num at risk  num events\n",
       "Time                                                      \n",
       "0.506502   0.986842      0.013071           76         1.0\n",
       "0.558522   0.973684      0.018362           75         1.0\n",
       "0.574949   0.960526      0.022336           74         1.0\n",
       "0.635181   0.947368      0.025614           73         1.0\n",
       "1.166324   0.934211      0.028438           72         1.0"
      ]
     },
     "execution_count": 456,
     "metadata": {},
     "output_type": "execute_result"
    }
   ],
   "source": [
    "meldates_m = meldates.loc[meldates.sex == \"male\", :]\n",
    "smale = sm.SurvfuncRight(meldates_m['surv_yrs'], meldates_m['bin_status'])\n",
    "smale.summary().head()"
   ]
  },
  {
   "cell_type": "code",
   "execution_count": 457,
   "metadata": {},
   "outputs": [
    {
     "data": {
      "text/plain": [
       "Text(0.5, 0, 'Years since operation')"
      ]
     },
     "execution_count": 457,
     "metadata": {},
     "output_type": "execute_result"
    },
    {
     "data": {
      "image/png": "[encoded data removed]",
      "text/plain": [
       "<Figure size 432x288 with 1 Axes>"
      ]
     },
     "metadata": {},
     "output_type": "display_data"
    }
   ],
   "source": [
    "# Plotting the survival curves for men and women\n",
    "\n",
    "gb = meldates.groupby(\"sex\")\n",
    "ax = plt.axes()\n",
    "sexes = []\n",
    "col = ['C0', 'C1']\n",
    "i = 0\n",
    "for g in gb:\n",
    "    sexes.append(g[0])\n",
    "    sf = sm.SurvfuncRight(g[1][\"surv_yrs\"], g[1][\"bin_status\"])\n",
    "    #sf.plot(ax)\n",
    "\n",
    "    lcb, ucb = sf.simultaneous_cb()\n",
    "    #lcb = np.array(1/lcb)\n",
    "    #ucb = np.array(1/ucb)\n",
    "    \n",
    "    #lcb[np.isnan(lcb)] = 0\n",
    "    #ucb[np.isnan(ucb)] = 0\n",
    "    #lcb[np.isinf(lcb)] = 0\n",
    "    #ucb[np.isinf(ucb)] = 0\n",
    "    \n",
    "    ax.fill_between(sf.surv_times[:], sf.surv_prob[:], ucb[:], alpha=0.05, color=col[i])\n",
    "    ax.fill_between(sf.surv_times[6:], lcb[6:],sf.surv_prob[6:], alpha=0.05, color=col[i])\n",
    "\n",
    "    ax.plot(sf.surv_times[6:], lcb[6:], alpha=0.5, color=col[i], linestyle='--')\n",
    "    ax.plot(sf.surv_times[:], ucb[:], alpha=0.5, color=col[i], linestyle='--')\n",
    "\n",
    "    ax.plot(sf.surv_times, sf.surv_prob)\n",
    "    i = i + 1\n",
    "    \n",
    "ax.set_ylabel(\"Survival probability\")\n",
    "ax.set_xlabel(\"Years since operation\")"
   ]
  },
  {
   "cell_type": "code",
   "execution_count": 458,
   "metadata": {
    "scrolled": true
   },
   "outputs": [
    {
     "name": "stdout",
     "output_type": "stream",
     "text": [
      "### Male group ####################################\n",
      "\n",
      " 25-percentile of the time to death:  3.36208076659822 95% CI: (2.132785763175907, 5.757700205338809)\n",
      "\n",
      " \n",
      "\n",
      "### Female group ####################################\n",
      "\n",
      " 25-percentile of the time to death:  8.328542094455852 95% CI: (4.725530458590007, inf)\n"
     ]
    }
   ],
   "source": [
    "print('### Male group ####################################')\n",
    "\n",
    "#print('\\n Risk of dying within 7 years after the operation:', 1-np.float(time_estimate(smale, 7)), \n",
    "#'95% CI: ', 1-np.array(time_estimate_ci(smale, 7)))\n",
    "\n",
    "print('\\n 25-percentile of the time to death: ', smale.quantile(0.25), \n",
    "      '95% CI:', smale.quantile_ci(0.25))\n",
    "\n",
    "print('\\n \\n')\n",
    "print('### Female group ####################################')\n",
    "\n",
    "#print('\\n Risk of dying within 7 years after the operation:', 1-np.float(time_estimate(sfem, 7)), \n",
    "#      '95% CI: ', 1-np.array(time_estimate_ci(sfem, 7)))\n",
    "\n",
    "print('\\n 25-percentile of the time to death: ', sfem.quantile(0.25), \n",
    "      '95% CI:', sfem.quantile_ci(0.25))"
   ]
  },
  {
   "cell_type": "code",
   "execution_count": 459,
   "metadata": {},
   "outputs": [
    {
     "name": "stdout",
     "output_type": "stream",
     "text": [
      "Log-rank test:  Chi-squared: 6.4679768573416005 . p-value:  0.010983549936573911\n"
     ]
    }
   ],
   "source": [
    "# Perfoming a log-rank test (to conpare the two survival distributions)\n",
    "stat, pv = sm.duration.survdiff(meldates['surv_yrs'], meldates['bin_status'], meldates['sex'])\n",
    "\n",
    "print('Log-rank test: ', 'Chi-squared:', stat, '. p-value: ', pv)"
   ]
  },
  {
   "cell_type": "markdown",
   "metadata": {},
   "source": [
    "P-value = 0.01 -> there is a statistically significant difference between the survival of male and female groups."
   ]
  },
  {
   "cell_type": "markdown",
   "metadata": {},
   "source": [
    "### 3. Check the validity of the assumption of proportional hazards by making (A) the observed and fitted survival curves; (B) the log-minus-log survival curves:"
   ]
  },
  {
   "cell_type": "code",
   "execution_count": 463,
   "metadata": {},
   "outputs": [
    {
     "data": {
      "text/plain": [
       "Text(0.5, 0, 'Years since operation')"
      ]
     },
     "execution_count": 463,
     "metadata": {},
     "output_type": "execute_result"
    },
    {
     "data": {
      "image/png": "[encoded data removed]",
      "text/plain": [
       "<Figure size 432x288 with 1 Axes>"
      ]
     },
     "metadata": {},
     "output_type": "display_data"
    }
   ],
   "source": [
    "# Plotting the survival curves for men and women\n",
    "\n",
    "gb = meldates.groupby(\"sex\")\n",
    "ax = plt.axes()\n",
    "sexes = []\n",
    "col = ['C0', 'C1']\n",
    "i = 0\n",
    "for g in gb:\n",
    "    sexes.append(g[0])\n",
    "    sf = sm.SurvfuncRight(g[1][\"surv_yrs\"], g[1][\"bin_status\"])\n",
    "    #sf.plot(ax)\n",
    "\n",
    "    lcb, ucb = sf.simultaneous_cb()\n",
    "    #lcb = np.array(1/lcb)\n",
    "    #ucb = np.array(1/ucb)\n",
    "    \n",
    "    #lcb[np.isnan(lcb)] = 0\n",
    "    #ucb[np.isnan(ucb)] = 0\n",
    "    #lcb[np.isinf(lcb)] = 0\n",
    "    #ucb[np.isinf(ucb)] = 0\n",
    "    \n",
    "    ax.fill_between(sf.surv_times[6:], -np.log(sf.surv_prob[6:]), -np.log(ucb[6:]), alpha=0.05, color=col[i])\n",
    "    ax.fill_between(sf.surv_times[6:], -np.log(lcb[6:]), -np.log(sf.surv_prob[6:]), alpha=0.05, color=col[i])\n",
    "    \n",
    "    ax.plot(sf.surv_times[6:], -np.log(lcb[6:]), color=col[i], linestyle='--', alpha=0.5)\n",
    "    ax.plot(sf.surv_times[6:], -np.log(ucb[6:]), color=col[i], linestyle='--', alpha=0.5)\n",
    "    \n",
    "    ax.plot(sf.surv_times, -np.log(sf.surv_prob))\n",
    "    i = i + 1\n",
    "    \n",
    "plt.yscale('log')\n",
    "#plt.ylim([1, 110])\n",
    "ax.set_ylabel(\"log(-log Survival probability)\")\n",
    "ax.set_xlabel(\"Years since operation\")"
   ]
  },
  {
   "cell_type": "markdown",
   "metadata": {},
   "source": [
    "#### Is it reasonable to assume that the hazard ratio is constant over time?\n",
    "\n",
    "I wouldn't say so, as the log-log survival probability increases with time."
   ]
  },
  {
   "cell_type": "markdown",
   "metadata": {},
   "source": [
    "#### Finally we can estimate the log hazard ratio and the hazard ratio:"
   ]
  },
  {
   "cell_type": "code",
   "execution_count": 462,
   "metadata": {},
   "outputs": [
    {
     "name": "stdout",
     "output_type": "stream",
     "text": [
      "                                Results: PHReg\n",
      "===============================================================================\n",
      "Model:                          PH Reg              Sample size:            201\n",
      "Dependent variable:             surv_yrs            Num. events:            57 \n",
      "Ties:                           Efron                                          \n",
      "-------------------------------------------------------------------------------\n",
      "            log HR  log HR SE           HR            t    P>|t|  [0.025 0.975]\n",
      "-------------------------------------------------------------------------------\n",
      "bin_sex    -0.3490      0.2710              0.7054 -1.2881 0.1977 0.4147 1.1997\n",
      "bin_status 31.9592 449838.1982 75804011520290.0938  0.0001 0.9999 0.0000    inf\n",
      "===============================================================================\n",
      "Confidence intervals are for the hazard ratios\n"
     ]
    }
   ],
   "source": [
    "meldates['bin_sex'] = 1\n",
    "meldates['bin_sex'][meldates['sex'] == 'male'] = 0\n",
    "\n",
    "mod = smf.phreg(\"surv_yrs ~ bin_sex + bin_status\",\n",
    "                meldates, status='bin_status', ties=\"efron\")\n",
    "\n",
    "rslt = mod.fit()\n",
    "print(rslt.summary())"
   ]
  },
  {
   "cell_type": "markdown",
   "metadata": {},
   "source": [
    "### 4. Find the hazard ratio comparing males to females, and present an interpretation of the hazard ratio"
   ]
  },
  {
   "cell_type": "code",
   "execution_count": 466,
   "metadata": {},
   "outputs": [
    {
     "name": "stdout",
     "output_type": "stream",
     "text": [
      "<statsmodels.duration.hazard_regression.PHReg object at 0x7fafab5fd9e8>\n"
     ]
    },
    {
     "ename": "AttributeError",
     "evalue": "'PHReg' object has no attribute 'surv_times'",
     "output_type": "error",
     "traceback": [
      "\u001b[0;31m---------------------------------------------------------------------------\u001b[0m",
      "\u001b[0;31mAttributeError\u001b[0m                            Traceback (most recent call last)",
      "\u001b[0;32m<ipython-input-466-d0c857fa067a>\u001b[0m in \u001b[0;36m<module>\u001b[0;34m()\u001b[0m\n\u001b[1;32m     22\u001b[0m     \u001b[0;31m#ucb[np.isinf(ucb)] = 0\u001b[0m\u001b[0;34m\u001b[0m\u001b[0;34m\u001b[0m\u001b[0;34m\u001b[0m\u001b[0m\n\u001b[1;32m     23\u001b[0m \u001b[0;34m\u001b[0m\u001b[0m\n\u001b[0;32m---> 24\u001b[0;31m     \u001b[0max\u001b[0m\u001b[0;34m.\u001b[0m\u001b[0mplot\u001b[0m\u001b[0;34m(\u001b[0m\u001b[0msf\u001b[0m\u001b[0;34m.\u001b[0m\u001b[0msurv_times\u001b[0m\u001b[0;34m,\u001b[0m \u001b[0;34m-\u001b[0m\u001b[0mnp\u001b[0m\u001b[0;34m.\u001b[0m\u001b[0mlog\u001b[0m\u001b[0;34m(\u001b[0m\u001b[0msf\u001b[0m\u001b[0;34m.\u001b[0m\u001b[0msurv_prob\u001b[0m\u001b[0;34m)\u001b[0m\u001b[0;34m)\u001b[0m\u001b[0;34m\u001b[0m\u001b[0;34m\u001b[0m\u001b[0m\n\u001b[0m\u001b[1;32m     25\u001b[0m     \u001b[0mi\u001b[0m \u001b[0;34m=\u001b[0m \u001b[0mi\u001b[0m \u001b[0;34m+\u001b[0m \u001b[0;36m1\u001b[0m\u001b[0;34m\u001b[0m\u001b[0;34m\u001b[0m\u001b[0m\n\u001b[1;32m     26\u001b[0m \u001b[0;34m\u001b[0m\u001b[0m\n",
      "\u001b[0;31mAttributeError\u001b[0m: 'PHReg' object has no attribute 'surv_times'"
     ]
    },
    {
     "data": {
      "image/png": "[encoded data removed]",
      "text/plain": [
       "<Figure size 432x288 with 1 Axes>"
      ]
     },
     "metadata": {},
     "output_type": "display_data"
    }
   ],
   "source": [
    "# Plotting the survival curves for men and women\n",
    "\n",
    "gb = meldates.groupby(\"sex\")\n",
    "ax = plt.axes()\n",
    "sexes = []\n",
    "col = ['C0', 'C1']\n",
    "i = 0\n",
    "for g in gb:\n",
    "    sexes.append(g[0])\n",
    "    sf = smf.phreg(\"surv_yrs ~ bin_sex + bin_status\",\n",
    "                meldates, status='bin_status', ties=\"efron\")\n",
    "    print(sf)\n",
    "    #sf.plot(ax)\n",
    "\n",
    "    #lcb, ucb = sf.simultaneous_cb()\n",
    "    #lcb = np.array(1/lcb)\n",
    "    #ucb = np.array(1/ucb)\n",
    "    \n",
    "    #lcb[np.isnan(lcb)] = 0\n",
    "    #ucb[np.isnan(ucb)] = 0\n",
    "    #lcb[np.isinf(lcb)] = 0\n",
    "    #ucb[np.isinf(ucb)] = 0\n",
    "\n",
    "    ax.plot(sf.surv_times, -np.log(sf.surv_prob))\n",
    "    i = i + 1\n",
    "    \n",
    "plt.yscale('log')\n",
    "#plt.ylim([1, 110])\n",
    "ax.set_ylabel(\"log(-log Survival probability)\")\n",
    "ax.set_xlabel(\"Years since operation\")"
   ]
  },
  {
   "cell_type": "code",
   "execution_count": null,
   "metadata": {},
   "outputs": [],
   "source": []
  }
 ],
 "metadata": {
  "kernelspec": {
   "display_name": "Python 3",
   "language": "python",
   "name": "python3"
  },
  "language_info": {
   "codemirror_mode": {
    "name": "ipython",
    "version": 3
   },
   "file_extension": ".py",
   "mimetype": "text/x-python",
   "name": "python",
   "nbconvert_exporter": "python",
   "pygments_lexer": "ipython3",
   "version": "3.6.9"
  }
 },
 "nbformat": 4,
 "nbformat_minor": 1
}
