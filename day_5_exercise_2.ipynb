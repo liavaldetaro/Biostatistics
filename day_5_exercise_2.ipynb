{
 "cells": [
  {
   "cell_type": "code",
   "execution_count": 5,
   "metadata": {},
   "outputs": [],
   "source": [
    "import numpy as np\n",
    "import matplotlib.pyplot as plt\n",
    "import statsmodels as stat\n",
    "import pandas as pd\n",
    "from pandas.plotting import scatter_matrix\n",
    "import scipy.stats as stats\n",
    "import statsmodels.api as sm\n",
    "import pandas.plotting as pd_plot\n",
    "import scipy as sc\n",
    "from pandas import DataFrame\n",
    "import statsmodels.api as sm"
   ]
  },
  {
   "cell_type": "code",
   "execution_count": 6,
   "metadata": {
    "pycharm": {
     "name": "#%%\n"
    }
   },
   "outputs": [],
   "source": [
    "def mean_CI_data(data, confidence=0.95):\n",
    "    a = 1.0 * np.array(data)\n",
    "    n = len(a)\n",
    "    m, std = np.mean(a), np.std(a)\n",
    "    #h = se * sc.stats.t.ppf((1 + confidence) / 2., n - 1)\n",
    "    h = std * 1.96 / np.sqrt(n-1)\n",
    "    return m, m - h, m + h"
   ]
  },
  {
   "cell_type": "markdown",
   "metadata": {},
   "source": [
    "## Exercise 5.2\n",
    "The data consist of a random sample of 480 patients from the Danish Study of Functional\n",
    "Disorders (DanFunD). DanFunD represents the first major longitudinal population-based\n",
    "study in the field of what is commonly referred to as functional disorders or medically\n",
    "unexplained illnesses. However, data will likewise be used to study other conditions,\n",
    "such as cardiovascular disease, diabetes, respiratory diseases, allergy and asthma.\n",
    "In this exercise we will restrict our selves to looking at the difference in forced vital\n",
    "capacity (FVC) between men and women.\n",
    "\n",
    "\n",
    "## Part A\n",
    "### 1) Estimate the unadjusted (crude) difference in FVC between men and women."
   ]
  },
  {
   "cell_type": "code",
   "execution_count": 99,
   "metadata": {
    "pycharm": {
     "name": "#%%\n"
    }
   },
   "outputs": [
    {
     "name": "stdout",
     "output_type": "stream",
     "text": [
      "4.781081081081082\n",
      "3.419108527131783\n"
     ]
    },
    {
     "data": {
      "image/png": "[encoded data removed]",
      "text/plain": [
       "<Figure size 432x288 with 1 Axes>"
      ]
     },
     "metadata": {},
     "output_type": "display_data"
    }
   ],
   "source": [
    "%matplotlib inline\n",
    "\n",
    "danfund = pd.read_csv('data/danfund.csv', sep=';', decimal=\",\")\n",
    "#print(danfund)\n",
    "\n",
    "danfund_male = danfund.loc[danfund['sex'] == 1]\n",
    "danfund_female = danfund.loc[danfund['sex'] == 0]\n",
    "\n",
    "print(np.mean(danfund_male['fvc']))\n",
    "print(np.mean(danfund_female['fvc']))\n",
    "\n",
    "\n",
    "# plotting the histogram\n",
    "plt.rcParams.update({'font.size': 10})\n",
    "fig, ax = plt.subplots(1, 1)\n",
    "\n",
    "mu, std = stats.norm.fit(danfund_male['fvc'])\n",
    "x = np.linspace(0,10)\n",
    "pdf_data = stats.norm.pdf(x, mu, std)\n",
    "ax.plot(x, pdf_data, color='blue', label='Male')\n",
    "ax.hist(danfund_male['fvc'], bins=20, density='True', color='blue', alpha=0.7)\n",
    "\n",
    "mu, std = stats.norm.fit(danfund_female['fvc'])\n",
    "pdf_data = stats.norm.pdf(x, mu, std)\n",
    "ax.plot(x, pdf_data, color='orange', label='Female')\n",
    "ax.hist(danfund_female['fvc'], bins=20, density='True', color='orange', alpha=0.7)\n",
    "\n",
    "ax.set_xlabel('fvc')\n",
    "ax.set_ylabel('Density')\n",
    "ax.legend()\n",
    "ax.grid()\n",
    "plt.show()\n"
   ]
  },
  {
   "cell_type": "markdown",
   "metadata": {
    "pycharm": {
     "name": "#%% md\n"
    }
   },
   "source": [
    "We can see a large difference in the standard deviations"
   ]
  },
  {
   "cell_type": "code",
   "execution_count": 105,
   "metadata": {
    "pycharm": {
     "name": "#%%\n"
    }
   },
   "outputs": [
    {
     "name": "stdout",
     "output_type": "stream",
     "text": [
      "Male group: std = 0.6469142466242552\n",
      "Female group: std = 0.9025388128724291\n",
      "F_obs = 0.5137616181498876\n",
      "p-value = 6.280750320874374e-08\n"
     ]
    }
   ],
   "source": [
    "# First, we need to test the hypothesis std_male = std_female\n",
    "# F_obs = [largest observed std/ smallest observed std]^2\n",
    "std_male = np.std(danfund_female['fvc'])\n",
    "std_female = np.std(danfund_male['fvc'])\n",
    "print('Male group: std =', std_male)\n",
    "print('Female group: std =', std_female)\n",
    "\n",
    "if std_male <= std_female:\n",
    "    F_obs = (std_male/std_female)**2\n",
    "else:\n",
    "    F_obs = (std_female/std_male)**2\n",
    "\n",
    "print('F_obs =', F_obs)\n",
    "p_value = stats.f.cdf(F_obs, len(danfund_female['fvc']) - 1, len(danfund_female['fvc']) - 1)\n",
    "print('p-value =', p_value)"
   ]
  },
  {
   "cell_type": "code",
   "execution_count": 194,
   "metadata": {
    "pycharm": {
     "name": "#%%\n"
    }
   },
   "outputs": [
    {
     "name": "stdout",
     "output_type": "stream",
     "text": [
      "t-value =  -18.683009999073132 . p-value = 3.240780747267251e-56\n",
      "mean fvc (women) =  3.419108527131783 , 95% CI =  (3.340015859223953, 3.4982011950396132)\n",
      "mean fvc (men) =  4.781081081081082 , 95% CI =  (4.66208687331186, 4.900075288850304)\n",
      "mean diff =  1.3619725539492986 , 95% CI =  (1.218652213778892, 1.5052928941197043)\n"
     ]
    }
   ],
   "source": [
    "#danfund_female['diff'] = danfund_male['fvc'] - danfund_female['fvc']\n",
    "t_value, p_value = stats.ttest_ind(danfund_female['fvc'],\n",
    "                                   danfund_male['fvc'], equal_var=False)\n",
    "print('t-value = ', t_value, '. p-value =', p_value)\n",
    "\n",
    "ci_f = mean_CI_data(danfund_female['fvc'])\n",
    "print('mean fvc (women) = ', ci_f[0], ', 95% CI = ', ci_f[1:])\n",
    "ci_m = mean_CI_data(danfund_male['fvc'])\n",
    "print('mean fvc (men) = ', ci_m[0], ', 95% CI = ', ci_m[1:])\n",
    "\n",
    "\n",
    "import statsmodels.stats.api as sms\n",
    "\n",
    "cm = sms.CompareMeans(sms.DescrStatsW(danfund_male['fvc']),\n",
    "                      sms.DescrStatsW(danfund_female['fvc']))\n",
    "ci = cm.tconfint_diff(usevar='unequal')\n",
    "\n",
    "print('mean diff = ', ci_m[0] - ci_f[0], ', 95% CI = ', ci)"
   ]
  },
  {
   "cell_type": "markdown",
   "metadata": {
    "pycharm": {
     "name": "#%% md\n"
    }
   },
   "source": [
    "The mean difference found was 1.36, with 95% CI (1.22, 1.50), with\n",
    "p-value < 0.0001, indicating that the hypothesis of equal means is false."
   ]
  },
  {
   "cell_type": "markdown",
   "metadata": {
    "pycharm": {
     "name": "#%% md\n"
    }
   },
   "source": [
    "### 2) For both men and women: Establish a linear regression of FVC on height and interpret the parameters in the model.\n"
   ]
  },
  {
   "cell_type": "code",
   "execution_count": 107,
   "metadata": {
    "pycharm": {
     "name": "#%%md\n"
    }
   },
   "outputs": [
    {
     "name": "stdout",
     "output_type": "stream",
     "text": [
      "                            OLS Regression Results                            \n",
      "==============================================================================\n",
      "Dep. Variable:                    fvc   R-squared:                       0.268\n",
      "Model:                            OLS   Adj. R-squared:                  0.265\n",
      "Method:                 Least Squares   F-statistic:                     80.61\n",
      "Date:                Wed, 07 Apr 2021   Prob (F-statistic):           1.25e-16\n",
      "Time:                        14:32:52   Log-Likelihood:                -257.59\n",
      "No. Observations:                 222   AIC:                             519.2\n",
      "Df Residuals:                     220   BIC:                             526.0\n",
      "Df Model:                           1                                         \n",
      "Covariance Type:            nonrobust                                         \n",
      "==============================================================================\n",
      "                 coef    std err          t      P>|t|      [0.025      0.975]\n",
      "------------------------------------------------------------------------------\n",
      "const         -7.1509      1.330     -5.377      0.000      -9.772      -4.530\n",
      "height         0.0667      0.007      8.978      0.000       0.052       0.081\n",
      "==============================================================================\n",
      "Omnibus:                        0.272   Durbin-Watson:                   2.281\n",
      "Prob(Omnibus):                  0.873   Jarque-Bera (JB):                0.420\n",
      "Skew:                          -0.039   Prob(JB):                        0.811\n",
      "Kurtosis:                       2.802   Cond. No.                     4.58e+03\n",
      "==============================================================================\n",
      "\n",
      "Notes:\n",
      "[1] Standard Errors assume that the covariance matrix of the errors is correctly specified.\n",
      "[2] The condition number is large, 4.58e+03. This might indicate that there are\n",
      "strong multicollinearity or other numerical problems.\n"
     ]
    }
   ],
   "source": [
    "X = sm.add_constant(danfund_male['height']) # adding a constant - otherwise b=0 in a*x+b\n",
    "Y = danfund_male['fvc']\n",
    "model_male = sm.OLS(Y, X).fit()\n",
    "print(model_male.summary())\n",
    "\n",
    "Residuals_male = (danfund_male['height'] * model_male.params[1] \n",
    "             + model_male.params[0]) - danfund_male['fvc']\n",
    "model_male_res = sm.OLS(Residuals_male, X).fit()"
   ]
  },
  {
   "cell_type": "code",
   "execution_count": 108,
   "metadata": {
    "pycharm": {
     "name": "#%%\n"
    }
   },
   "outputs": [
    {
     "name": "stdout",
     "output_type": "stream",
     "text": [
      "                            OLS Regression Results                            \n",
      "==============================================================================\n",
      "Dep. Variable:                    fvc   R-squared:                       0.328\n",
      "Model:                            OLS   Adj. R-squared:                  0.326\n",
      "Method:                 Least Squares   F-statistic:                     125.1\n",
      "Date:                Wed, 07 Apr 2021   Prob (F-statistic):           6.64e-24\n",
      "Time:                        14:32:52   Log-Likelihood:                -202.40\n",
      "No. Observations:                 258   AIC:                             408.8\n",
      "Df Residuals:                     256   BIC:                             415.9\n",
      "Df Model:                           1                                         \n",
      "Covariance Type:            nonrobust                                         \n",
      "==============================================================================\n",
      "                 coef    std err          t      P>|t|      [0.025      0.975]\n",
      "------------------------------------------------------------------------------\n",
      "const         -5.5737      0.805     -6.926      0.000      -7.159      -3.989\n",
      "height         0.0543      0.005     11.184      0.000       0.045       0.064\n",
      "==============================================================================\n",
      "Omnibus:                       12.870   Durbin-Watson:                   1.816\n",
      "Prob(Omnibus):                  0.002   Jarque-Bera (JB):               22.545\n",
      "Skew:                           0.266   Prob(JB):                     1.27e-05\n",
      "Kurtosis:                       4.347   Cond. No.                     4.02e+03\n",
      "==============================================================================\n",
      "\n",
      "Notes:\n",
      "[1] Standard Errors assume that the covariance matrix of the errors is correctly specified.\n",
      "[2] The condition number is large, 4.02e+03. This might indicate that there are\n",
      "strong multicollinearity or other numerical problems.\n"
     ]
    }
   ],
   "source": [
    "X = sm.add_constant(danfund_female['height']) \n",
    "Y = danfund_female['fvc']\n",
    "model_female = sm.OLS(Y, X).fit()\n",
    "print(model_female.summary())\n",
    "\n",
    "Residuals_female = (danfund_female['height'] * model_female.params[1] \n",
    "             + model_female.params[0]) - danfund_female['fvc']\n",
    "model_female_res = sm.OLS(Residuals_female, X).fit()\n"
   ]
  },
  {
   "cell_type": "code",
   "execution_count": 351,
   "metadata": {},
   "outputs": [
    {
     "data": {
      "image/png": "[encoded data removed]",
      "text/plain": [
       "<Figure size 432x288 with 2 Axes>"
      ]
     },
     "metadata": {},
     "output_type": "display_data"
    },
    {
     "name": "stdout",
     "output_type": "stream",
     "text": [
      "(-6.041678785169456e-15, -0.06482660396440833, 0.06482660396439625)\n",
      "0.5302293470958838\n"
     ]
    }
   ],
   "source": [
    "%matplotlib inline\n",
    "plt.rcParams.update({'font.size': 13})\n",
    "fig, ax = plt.subplots(1, 2)\n",
    "\n",
    "ax[0].scatter(danfund_male['height'], danfund_male['fvc'], color='C0', alpha=0.6, label='male')\n",
    "ax[0].plot(danfund_male['height'], model_male.predict(sm.add_constant(danfund_male['height'])), color='blue')\n",
    "ax[0].scatter(danfund_female['height'], danfund_female['fvc'], color='C1', alpha=0.6, label='female')\n",
    "ax[0].plot(danfund_female['height'], model_female.predict(sm.add_constant(danfund_female['height'])), color='red')\n",
    "ax[0].set_ylabel('FVC')\n",
    "ax[0].set_xlabel('height [cm]')\n",
    "ax[0].legend()\n",
    "\n",
    "ax[1].scatter(danfund_male['height'], Residuals_male, color='C0', alpha=0.6, label='male')\n",
    "ax[1].plot(danfund_male['height'], model_male_res.predict(sm.add_constant(danfund_male['height'])), color='blue')\n",
    "ax[1].scatter(danfund_female['height'], Residuals_female, color='C1', alpha=0.6, label='female')\n",
    "ax[1].plot(danfund_female['height'], model_female_res.predict(sm.add_constant(danfund_female['height'])), color='red')\n",
    "ax[1].set_ylabel('Residuals')\n",
    "ax[1].set_xlabel('height [cm]')\n",
    "plt.tight_layout()\n",
    "plt.show()\n",
    "\n",
    "print(mean_CI_data(Residuals_female, confidence=0.95))\n",
    "print(np.std(Residuals_female))"
   ]
  },
  {
   "cell_type": "markdown",
   "metadata": {
    "pycharm": {
     "name": "#%% md\n"
    }
   },
   "source": [
    "For the male group, our model found:\n",
    "- intercept: -7.1509 (95% CI  [-9.772; -4.530])\n",
    "- slope: 0.0667 (95% CI  [0.052; 0.081])\n",
    "- residual standard deviation: 0.7720\n",
    "\n",
    "For the female group, our model found:\n",
    "- intercept: -5.5737 (95% CI  [-7.159; -3.989])\n",
    "- slope: 0.0543 (95% CI  [0.045; 0.064])\n",
    "- residual standard deviation: 0.53022\n",
    "\n",
    "\n",
    "*check how to get the CI for the residuals!\n"
   ]
  },
  {
   "cell_type": "markdown",
   "metadata": {},
   "source": [
    "### 5.2.3) Establish a multiple linear regression model with FVC as the dependent variable, and height, sex and their interaction as the independent variables and interpret the parameters. Does the difference in FVC between men and women depend on the height (i.e. is there a statistically significant interaction effect)? \n"
   ]
  },
  {
   "cell_type": "code",
   "execution_count": 193,
   "metadata": {},
   "outputs": [
    {
     "name": "stdout",
     "output_type": "stream",
     "text": [
      "                            OLS Regression Results                            \n",
      "==============================================================================\n",
      "Dep. Variable:                    fvc   R-squared:                       0.598\n",
      "Model:                            OLS   Adj. R-squared:                  0.596\n",
      "Method:                 Least Squares   F-statistic:                     236.4\n",
      "Date:                Wed, 07 Apr 2021   Prob (F-statistic):           6.82e-94\n",
      "Time:                        15:27:08   Log-Likelihood:                -476.76\n",
      "No. Observations:                 480   AIC:                             961.5\n",
      "Df Residuals:                     476   BIC:                             978.2\n",
      "Df Model:                           3                                         \n",
      "Covariance Type:            nonrobust                                         \n",
      "==============================================================================\n",
      "                 coef    std err          t      P>|t|      [0.025      0.975]\n",
      "------------------------------------------------------------------------------\n",
      "const         -5.5737      0.992     -5.619      0.000      -7.523      -3.625\n",
      "height         0.0543      0.006      9.074      0.000       0.043       0.066\n",
      "sex           -1.5772      1.500     -1.052      0.294      -4.524       1.370\n",
      "height_sex     0.0123      0.009      1.421      0.156      -0.005       0.029\n",
      "==============================================================================\n",
      "Omnibus:                        4.761   Durbin-Watson:                   2.138\n",
      "Prob(Omnibus):                  0.093   Jarque-Bera (JB):                6.034\n",
      "Skew:                           0.047   Prob(JB):                       0.0490\n",
      "Kurtosis:                       3.541   Cond. No.                     1.10e+04\n",
      "==============================================================================\n",
      "\n",
      "Notes:\n",
      "[1] Standard Errors assume that the covariance matrix of the errors is correctly specified.\n",
      "[2] The condition number is large, 1.1e+04. This might indicate that there are\n",
      "strong multicollinearity or other numerical problems.\n"
     ]
    }
   ],
   "source": [
    "# independent parameters; height, sex, and height * sex\n",
    "# dependent parameter: fvc\n",
    "\n",
    "danfund['height_sex'] = danfund['height'] * danfund['sex']\n",
    "\n",
    "X = sm.add_constant(danfund[['height', 'sex', 'height_sex']])\n",
    "Y = danfund['fvc']\n",
    "model_multiple = sm.OLS(Y, X).fit()\n",
    "print(model_multiple.summary())"
   ]
  },
  {
   "cell_type": "markdown",
   "metadata": {},
   "source": [
    "We can see that the difference in slope is 0.009 (95% CI -0.005;0.029). As zero is contained in the confidence interval, we can say that the difference in FVC between men and women is independent on height"
   ]
  },
  {
   "cell_type": "markdown",
   "metadata": {},
   "source": [
    "### 5.2.3)  Find a height adjusted estimate of the difference between men and women and write a short conclusion on your findings. "
   ]
  },
  {
   "cell_type": "code",
   "execution_count": 337,
   "metadata": {},
   "outputs": [
    {
     "name": "stdout",
     "output_type": "stream",
     "text": [
      "                            OLS Regression Results                            \n",
      "==============================================================================\n",
      "Dep. Variable:                    fvc   R-squared:                       0.597\n",
      "Model:                            OLS   Adj. R-squared:                  0.595\n",
      "Method:                 Least Squares   F-statistic:                     352.9\n",
      "Date:                Thu, 08 Apr 2021   Prob (F-statistic):           8.78e-95\n",
      "Time:                        14:45:35   Log-Likelihood:                -477.78\n",
      "No. Observations:                 480   AIC:                             961.6\n",
      "Df Residuals:                     477   BIC:                             974.1\n",
      "Df Model:                           2                                         \n",
      "Covariance Type:            nonrobust                                         \n",
      "==============================================================================\n",
      "                 coef    std err          t      P>|t|      [0.025      0.975]\n",
      "------------------------------------------------------------------------------\n",
      "const         -6.5454      0.719     -9.101      0.000      -7.959      -5.132\n",
      "height         0.0602      0.004     13.877      0.000       0.052       0.069\n",
      "sex            0.5504      0.084      6.563      0.000       0.386       0.715\n",
      "==============================================================================\n",
      "Omnibus:                        5.166   Durbin-Watson:                   2.137\n",
      "Prob(Omnibus):                  0.076   Jarque-Bera (JB):                6.688\n",
      "Skew:                           0.055   Prob(JB):                       0.0353\n",
      "Kurtosis:                       3.568   Cond. No.                     4.14e+03\n",
      "==============================================================================\n",
      "\n",
      "Notes:\n",
      "[1] Standard Errors assume that the covariance matrix of the errors is correctly specified.\n",
      "[2] The condition number is large, 4.14e+03. This might indicate that there are\n",
      "strong multicollinearity or other numerical problems.\n"
     ]
    }
   ],
   "source": [
    "X = sm.add_constant(danfund[['height', 'sex']])\n",
    "Y = danfund['fvc']\n",
    "model_multiple = sm.OLS(Y, X).fit()\n",
    "print(model_multiple.summary())"
   ]
  },
  {
   "cell_type": "markdown",
   "metadata": {},
   "source": [
    "We can find the height adjusted estimate by removing the interaction term: the difference is 0.5504 (95% CI 0.386, 0.715) liters, with a p-value < 0.0001."
   ]
  },
  {
   "cell_type": "markdown",
   "metadata": {},
   "source": [
    "### 5.2.3) What is the expected FVC for a man who is 180 cm tall? What is the expected FVC for a woman who is 170 cm tall (Hint: use the -lincom- command). "
   ]
  },
  {
   "cell_type": "code",
   "execution_count": 343,
   "metadata": {},
   "outputs": [
    {
     "name": "stdout",
     "output_type": "stream",
     "text": [
      "        id  sex  height   fvc  agegrp50  height_sex\n",
      "0       22    0   163.0  3.18         1         0.0\n",
      "1       68    0   154.5  2.58         1         0.0\n",
      "2      168    0   160.5  2.83         1         0.0\n",
      "3      178    0   177.0  3.83         1         0.0\n",
      "4      384    0   177.0  4.02         0         0.0\n",
      "..     ...  ...     ...   ...       ...         ...\n",
      "475  47047    0   162.0  3.50         1         0.0\n",
      "476  47160    0   165.1  3.37         0         0.0\n",
      "477  47281    1   183.0  6.10         0       183.0\n",
      "478  47287    0   167.5  3.43         1         0.0\n",
      "479  47557    1   181.0  5.58         0       181.0\n",
      "\n",
      "[480 rows x 6 columns]\n",
      "The expected FVC for a 180 cm tall man is:\n",
      "\n"
     ]
    },
    {
     "ename": "NameError",
     "evalue": "name 'x_180' is not defined",
     "output_type": "error",
     "traceback": [
      "\u001b[0;31m---------------------------------------------------------------------------\u001b[0m",
      "\u001b[0;31mNameError\u001b[0m                                 Traceback (most recent call last)",
      "\u001b[0;32m<ipython-input-343-c3ae50a1cb07>\u001b[0m in \u001b[0;36m<module>\u001b[0;34m()\u001b[0m\n\u001b[1;32m      2\u001b[0m \u001b[0;34m\u001b[0m\u001b[0m\n\u001b[1;32m      3\u001b[0m \u001b[0mprint\u001b[0m\u001b[0;34m(\u001b[0m\u001b[0;34m'The expected FVC for a 180 cm tall man is:\\n'\u001b[0m\u001b[0;34m)\u001b[0m\u001b[0;34m\u001b[0m\u001b[0;34m\u001b[0m\u001b[0m\n\u001b[0;32m----> 4\u001b[0;31m \u001b[0mprediction\u001b[0m \u001b[0;34m=\u001b[0m \u001b[0mmodel_multiple\u001b[0m\u001b[0;34m.\u001b[0m\u001b[0mget_prediction\u001b[0m\u001b[0;34m(\u001b[0m\u001b[0mx_180\u001b[0m\u001b[0;34m)\u001b[0m\u001b[0;34m\u001b[0m\u001b[0;34m\u001b[0m\u001b[0m\n\u001b[0m\u001b[1;32m      5\u001b[0m \u001b[0mprint\u001b[0m\u001b[0;34m(\u001b[0m\u001b[0mprediction\u001b[0m\u001b[0;34m.\u001b[0m\u001b[0msummary_frame\u001b[0m\u001b[0;34m(\u001b[0m\u001b[0malpha\u001b[0m\u001b[0;34m=\u001b[0m\u001b[0;36m0.05\u001b[0m\u001b[0;34m)\u001b[0m\u001b[0;34m)\u001b[0m\u001b[0;34m\u001b[0m\u001b[0;34m\u001b[0m\u001b[0m\n\u001b[1;32m      6\u001b[0m \u001b[0;34m\u001b[0m\u001b[0m\n",
      "\u001b[0;31mNameError\u001b[0m: name 'x_180' is not defined"
     ]
    }
   ],
   "source": [
    "print('The expected FVC for a 180 cm tall man is:\\n')\n",
    "prediction = model_multiple.get_prediction(x_180)\n",
    "print(prediction.summary_frame(alpha=0.05))\n",
    "\n",
    "print('\\n')\n",
    "print('The expected FVC for a 170 cm tall woman is:\\n')\n",
    "prediction = model.get_prediction(x_170)\n",
    "print(prediction.summary_frame(alpha=0.05))\n"
   ]
  },
  {
   "cell_type": "markdown",
   "metadata": {},
   "source": [
    "# Part B\n",
    "It seems reasonable that age could also influence the FVC. Hence we add age (using the dichotomous variable agegrp50) to the multiple linear regression model established above. It is outside the scope of this course to evaluate interaction between 3 variables. We will let the model of independent effect (no interaction) between sex, height and age be given, and perform the standard model check of the model"
   ]
  },
  {
   "cell_type": "markdown",
   "metadata": {},
   "source": [
    "### 1) Establish a multiple linear regression model with FVC as the dependent variable,and height, sex and age as the independent variables. What is the height and age adjusted difference in FVC between men and women? "
   ]
  },
  {
   "cell_type": "code",
   "execution_count": 339,
   "metadata": {},
   "outputs": [
    {
     "name": "stdout",
     "output_type": "stream",
     "text": [
      "                            OLS Regression Results                            \n",
      "==============================================================================\n",
      "Dep. Variable:                    fvc   R-squared:                       0.690\n",
      "Model:                            OLS   Adj. R-squared:                  0.688\n",
      "Method:                 Least Squares   F-statistic:                     352.8\n",
      "Date:                Thu, 08 Apr 2021   Prob (F-statistic):          1.49e-120\n",
      "Time:                        14:45:57   Log-Likelihood:                -414.79\n",
      "No. Observations:                 480   AIC:                             837.6\n",
      "Df Residuals:                     476   BIC:                             854.3\n",
      "Df Model:                           3                                         \n",
      "Covariance Type:            nonrobust                                         \n",
      "==============================================================================\n",
      "                 coef    std err          t      P>|t|      [0.025      0.975]\n",
      "------------------------------------------------------------------------------\n",
      "const         -4.2575      0.660     -6.453      0.000      -5.554      -2.961\n",
      "height         0.0489      0.004     12.449      0.000       0.041       0.057\n",
      "sex            0.6803      0.074      9.140      0.000       0.534       0.827\n",
      "agegrp50      -0.6633      0.055    -11.952      0.000      -0.772      -0.554\n",
      "==============================================================================\n",
      "Omnibus:                       20.970   Durbin-Watson:                   2.042\n",
      "Prob(Omnibus):                  0.000   Jarque-Bera (JB):               36.609\n",
      "Skew:                           0.291   Prob(JB):                     1.12e-08\n",
      "Kurtosis:                       4.222   Cond. No.                     4.33e+03\n",
      "==============================================================================\n",
      "\n",
      "Notes:\n",
      "[1] Standard Errors assume that the covariance matrix of the errors is correctly specified.\n",
      "[2] The condition number is large, 4.33e+03. This might indicate that there are\n",
      "strong multicollinearity or other numerical problems.\n"
     ]
    }
   ],
   "source": [
    "# independent parameters; height, sex, and age\n",
    "# dependent parameter: fvc\n",
    "\n",
    "X = sm.add_constant(danfund[['height', 'sex', 'agegrp50']])\n",
    "Y = danfund['fvc']\n",
    "model_multiple2 = sm.OLS(Y, X).fit()\n",
    "print(model_multiple2.summary())"
   ]
  },
  {
   "cell_type": "markdown",
   "metadata": {},
   "source": [
    "The height and age adjusted difference in FVC is 0.6803 (95% CI 0.534, 0.827)"
   ]
  },
  {
   "cell_type": "code",
   "execution_count": 373,
   "metadata": {},
   "outputs": [
    {
     "ename": "ValueError",
     "evalue": "shapes (98,2) and (98,2) not aligned: 2 (dim 1) != 98 (dim 0)",
     "output_type": "error",
     "traceback": [
      "\u001b[0;31m---------------------------------------------------------------------------\u001b[0m",
      "\u001b[0;31mValueError\u001b[0m                                Traceback (most recent call last)",
      "\u001b[0;32m<ipython-input-373-e82a512e7688>\u001b[0m in \u001b[0;36m<module>\u001b[0;34m()\u001b[0m\n\u001b[1;32m     19\u001b[0m         \u001b[0mx_res\u001b[0m \u001b[0;34m=\u001b[0m \u001b[0msm\u001b[0m\u001b[0;34m.\u001b[0m\u001b[0madd_constant\u001b[0m\u001b[0;34m(\u001b[0m\u001b[0mdf\u001b[0m\u001b[0;34m[\u001b[0m\u001b[0;34m'height'\u001b[0m\u001b[0;34m]\u001b[0m\u001b[0;34m,\u001b[0m \u001b[0mhas_constant\u001b[0m\u001b[0;34m=\u001b[0m\u001b[0;34m'add'\u001b[0m\u001b[0;34m)\u001b[0m\u001b[0;34m\u001b[0m\u001b[0;34m\u001b[0m\u001b[0m\n\u001b[1;32m     20\u001b[0m         \u001b[0mresidual_fit\u001b[0m \u001b[0;34m=\u001b[0m \u001b[0msm\u001b[0m\u001b[0;34m.\u001b[0m\u001b[0mOLS\u001b[0m\u001b[0;34m(\u001b[0m\u001b[0mdf\u001b[0m\u001b[0;34m[\u001b[0m\u001b[0;34m'residual'\u001b[0m\u001b[0;34m]\u001b[0m\u001b[0;34m,\u001b[0m \u001b[0mx_res\u001b[0m\u001b[0;34m)\u001b[0m\u001b[0;34m\u001b[0m\u001b[0;34m\u001b[0m\u001b[0m\n\u001b[0;32m---> 21\u001b[0;31m         \u001b[0max\u001b[0m\u001b[0;34m[\u001b[0m\u001b[0ma\u001b[0m\u001b[0;34m,\u001b[0m \u001b[0ms\u001b[0m\u001b[0;34m]\u001b[0m\u001b[0;34m.\u001b[0m\u001b[0mplot\u001b[0m\u001b[0;34m(\u001b[0m\u001b[0mdf\u001b[0m\u001b[0;34m[\u001b[0m\u001b[0;34m'height'\u001b[0m\u001b[0;34m]\u001b[0m\u001b[0;34m,\u001b[0m \u001b[0mresidual_fit\u001b[0m\u001b[0;34m.\u001b[0m\u001b[0mpredict\u001b[0m\u001b[0;34m(\u001b[0m\u001b[0mx_res\u001b[0m\u001b[0;34m)\u001b[0m\u001b[0;34m)\u001b[0m\u001b[0;34m\u001b[0m\u001b[0;34m\u001b[0m\u001b[0m\n\u001b[0m\u001b[1;32m     22\u001b[0m         \u001b[0;32mif\u001b[0m \u001b[0ma\u001b[0m \u001b[0;34m==\u001b[0m \u001b[0;36m0\u001b[0m\u001b[0;34m:\u001b[0m\u001b[0;34m\u001b[0m\u001b[0;34m\u001b[0m\u001b[0m\n\u001b[1;32m     23\u001b[0m             \u001b[0mtitle\u001b[0m \u001b[0;34m=\u001b[0m \u001b[0mstr\u001b[0m\u001b[0;34m(\u001b[0m\u001b[0;34m'younger'\u001b[0m\u001b[0;34m)\u001b[0m\u001b[0;34m\u001b[0m\u001b[0;34m\u001b[0m\u001b[0m\n",
      "\u001b[0;32m/home/liabar/.local/lib/python3.6/site-packages/statsmodels/regression/linear_model.py\u001b[0m in \u001b[0;36mpredict\u001b[0;34m(self, params, exog)\u001b[0m\n\u001b[1;32m    378\u001b[0m             \u001b[0mexog\u001b[0m \u001b[0;34m=\u001b[0m \u001b[0mself\u001b[0m\u001b[0;34m.\u001b[0m\u001b[0mexog\u001b[0m\u001b[0;34m\u001b[0m\u001b[0;34m\u001b[0m\u001b[0m\n\u001b[1;32m    379\u001b[0m \u001b[0;34m\u001b[0m\u001b[0m\n\u001b[0;32m--> 380\u001b[0;31m         \u001b[0;32mreturn\u001b[0m \u001b[0mnp\u001b[0m\u001b[0;34m.\u001b[0m\u001b[0mdot\u001b[0m\u001b[0;34m(\u001b[0m\u001b[0mexog\u001b[0m\u001b[0;34m,\u001b[0m \u001b[0mparams\u001b[0m\u001b[0;34m)\u001b[0m\u001b[0;34m\u001b[0m\u001b[0;34m\u001b[0m\u001b[0m\n\u001b[0m\u001b[1;32m    381\u001b[0m \u001b[0;34m\u001b[0m\u001b[0m\n\u001b[1;32m    382\u001b[0m     \u001b[0;32mdef\u001b[0m \u001b[0mget_distribution\u001b[0m\u001b[0;34m(\u001b[0m\u001b[0mself\u001b[0m\u001b[0;34m,\u001b[0m \u001b[0mparams\u001b[0m\u001b[0;34m,\u001b[0m \u001b[0mscale\u001b[0m\u001b[0;34m,\u001b[0m \u001b[0mexog\u001b[0m\u001b[0;34m=\u001b[0m\u001b[0;32mNone\u001b[0m\u001b[0;34m,\u001b[0m \u001b[0mdist_class\u001b[0m\u001b[0;34m=\u001b[0m\u001b[0;32mNone\u001b[0m\u001b[0;34m)\u001b[0m\u001b[0;34m:\u001b[0m\u001b[0;34m\u001b[0m\u001b[0;34m\u001b[0m\u001b[0m\n",
      "\u001b[0;32m<__array_function__ internals>\u001b[0m in \u001b[0;36mdot\u001b[0;34m(*args, **kwargs)\u001b[0m\n",
      "\u001b[0;31mValueError\u001b[0m: shapes (98,2) and (98,2) not aligned: 2 (dim 1) != 98 (dim 0)"
     ]
    },
    {
     "data": {
      "image/png": "[encoded data removed]",
      "text/plain": [
       "<Figure size 432x288 with 4 Axes>"
      ]
     },
     "metadata": {},
     "output_type": "display_data"
    }
   ],
   "source": [
    "# checking the model assumptions\n",
    "\n",
    "\n",
    "%matplotlib inline\n",
    "plt.rcParams.update({'font.size': 13})\n",
    "fig, ax = plt.subplots(2, 2)\n",
    "\n",
    "for a in range(0,2):\n",
    "    for s in range(0, 2):\n",
    "        \n",
    "        df = danfund.loc[danfund['sex'] == s]\n",
    "        df = df.loc[danfund['agegrp50'] == a]\n",
    "        \n",
    "        x_subset = sm.add_constant(df[['height', 'sex', 'agegrp50']], has_constant='add')\n",
    "        \n",
    "        df['residual'] = model_multiple2.predict(x_subset)\n",
    "        ax[a, s].scatter(df['height'], df['residual'] - df['fvc'], alpha=0.7)\n",
    "        \n",
    "        x_res = sm.add_constant(df['height'], has_constant='add')\n",
    "        residual_fit = sm.OLS(df['residual'], x_res)\n",
    "        ax[a, s].plot(df['height'], residual_fit.predict(x_res))\n",
    "        \n",
    "        if a == 0:\n",
    "            title = str('younger')\n",
    "        else:\n",
    "            title = str('older')\n",
    "        if s == 0:\n",
    "            title = title + str(', female')\n",
    "        else:\n",
    "            title = title + str(', male')\n",
    "        ax[a, s].set_title(title)\n",
    "plt.tight_layout()\n",
    "plt.show()"
   ]
  },
  {
   "cell_type": "code",
   "execution_count": null,
   "metadata": {},
   "outputs": [],
   "source": []
  }
 ],
 "metadata": {
  "kernelspec": {
   "display_name": "Python 3",
   "language": "python",
   "name": "python3"
  },
  "language_info": {
   "codemirror_mode": {
    "name": "ipython",
    "version": 3
   },
   "file_extension": ".py",
   "mimetype": "text/x-python",
   "name": "python",
   "nbconvert_exporter": "python",
   "pygments_lexer": "ipython3",
   "version": "3.6.9"
  }
 },
 "nbformat": 4,
 "nbformat_minor": 1
}
