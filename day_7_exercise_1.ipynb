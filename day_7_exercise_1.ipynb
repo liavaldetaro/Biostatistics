{
 "cells": [
  {
   "cell_type": "code",
   "execution_count": 2,
   "metadata": {},
   "outputs": [
    {
     "name": "stderr",
     "output_type": "stream",
     "text": [
      "In /home/liabar/.local/lib/python3.6/site-packages/matplotlib/mpl-data/stylelib/_classic_test.mplstyle: \n",
      "The text.latex.preview rcparam was deprecated in Matplotlib 3.3 and will be removed two minor releases later.\n",
      "In /home/liabar/.local/lib/python3.6/site-packages/matplotlib/mpl-data/stylelib/_classic_test.mplstyle: \n",
      "The mathtext.fallback_to_cm rcparam was deprecated in Matplotlib 3.3 and will be removed two minor releases later.\n",
      "In /home/liabar/.local/lib/python3.6/site-packages/matplotlib/mpl-data/stylelib/_classic_test.mplstyle: Support for setting the 'mathtext.fallback_to_cm' rcParam is deprecated since 3.3 and will be removed two minor releases later; use 'mathtext.fallback : 'cm' instead.\n",
      "In /home/liabar/.local/lib/python3.6/site-packages/matplotlib/mpl-data/stylelib/_classic_test.mplstyle: \n",
      "The validate_bool_maybe_none function was deprecated in Matplotlib 3.3 and will be removed two minor releases later.\n",
      "In /home/liabar/.local/lib/python3.6/site-packages/matplotlib/mpl-data/stylelib/_classic_test.mplstyle: \n",
      "The savefig.jpeg_quality rcparam was deprecated in Matplotlib 3.3 and will be removed two minor releases later.\n",
      "In /home/liabar/.local/lib/python3.6/site-packages/matplotlib/mpl-data/stylelib/_classic_test.mplstyle: \n",
      "The keymap.all_axes rcparam was deprecated in Matplotlib 3.3 and will be removed two minor releases later.\n",
      "In /home/liabar/.local/lib/python3.6/site-packages/matplotlib/mpl-data/stylelib/_classic_test.mplstyle: \n",
      "The animation.avconv_path rcparam was deprecated in Matplotlib 3.3 and will be removed two minor releases later.\n",
      "In /home/liabar/.local/lib/python3.6/site-packages/matplotlib/mpl-data/stylelib/_classic_test.mplstyle: \n",
      "The animation.avconv_args rcparam was deprecated in Matplotlib 3.3 and will be removed two minor releases later.\n"
     ]
    }
   ],
   "source": [
    "import numpy as np\n",
    "import matplotlib.pyplot as plt\n",
    "import statsmodels as stat\n",
    "import pandas as pd\n",
    "from pandas.plotting import scatter_matrix\n",
    "import scipy.stats as stats\n",
    "import statsmodels.api as sm\n",
    "import pandas.plotting as pd_plot\n",
    "import scipy as sc\n",
    "from pandas import DataFrame\n",
    "import statsmodels.api as sm\n",
    "from bioinfokit.analys import stat\n",
    "import seaborn as sns\n"
   ]
  },
  {
   "cell_type": "markdown",
   "metadata": {},
   "source": [
    "## Exercise 7.1\n",
    "\n",
    "The file postterm.dta contains the post term delivery data used at the lectures day 7.\n",
    "Below we will go through the analysis of these data in Stata.\n",
    "We will use parity=0 as reference.\n",
    "\n",
    "\n",
    "#### 1. Find an unadjusted relative risk for the association between parity and postterm delivery using the Stata cs command.\n"
   ]
  },
  {
   "cell_type": "code",
   "execution_count": 3,
   "metadata": {},
   "outputs": [
    {
     "name": "stdout",
     "output_type": "stream",
     "text": [
      "       age                          parity  ptd\n",
      "0       20          No previous deliveries  Yes\n",
      "1       20          No previous deliveries  Yes\n",
      "2       20          No previous deliveries  Yes\n",
      "3       20          No previous deliveries  Yes\n",
      "4       20          No previous deliveries  Yes\n",
      "...    ...                             ...  ...\n",
      "12306   39  At least one previous delivery  No \n",
      "12307   39  At least one previous delivery  No \n",
      "12308   39  At least one previous delivery  No \n",
      "12309   39  At least one previous delivery  No \n",
      "12310   39  At least one previous delivery  No \n",
      "\n",
      "[12311 rows x 3 columns]\n"
     ]
    }
   ],
   "source": [
    "postterm = pd.read_csv('data/postterm.csv', sep=',', decimal=\".\")\n",
    "print(postterm)"
   ]
  },
  {
   "cell_type": "markdown",
   "metadata": {},
   "source": [
    "#### 2. Find an unadjusted relative risk for the association between parity and postterm delivery using a binary regression analysis. The output contains two z-tests, what do we test here?\n"
   ]
  },
  {
   "cell_type": "markdown",
   "metadata": {},
   "source": [
    "3. Examine the hypothesis that the relative risk is 0.9 (Hint: The hypotheis RR=0.9 is\n",
    "the same as beta=log(RR)=log(0.9) = - 0.10536, which can be tested using the\n",
    "command lincom 1.parity + 0.10536 ).\n",
    "Generate a new variable age30= age-30.\n",
    "We will now look at the association between age and risk of post term delivery among\n",
    "women with parity ==0.\n",
    "4. Perform a binary regression for relative risk including age30=age-30 as a\n",
    "explanatory variable.\n",
    "5. Calculate, based on the output, the relative ratio (with CI) for post term delivery\n",
    "comparing two women (both given birth to their first child), who differ 10 years in\n",
    "age.\n",
    "Run the Stata commands lincom 10*age30, eform and find the result.\n",
    "We return to comparing the parity groups.\n",
    "6. Examine if there is any effect modification (interaction) between parity and age on\n",
    "the risk of post term delivery.\n",
    "7. Assume there is no effect modification between parity and age on the risk of post\n",
    "term delivery. Compare the risk of post term delivery between the two parity\n",
    "groups, adjusting for age of the mother. "
   ]
  }
 ],
 "metadata": {
  "kernelspec": {
   "display_name": "Python 3",
   "language": "python",
   "name": "python3"
  },
  "language_info": {
   "codemirror_mode": {
    "name": "ipython",
    "version": 3
   },
   "file_extension": ".py",
   "mimetype": "text/x-python",
   "name": "python",
   "nbconvert_exporter": "python",
   "pygments_lexer": "ipython3",
   "version": "3.6.9"
  }
 },
 "nbformat": 4,
 "nbformat_minor": 1
}
